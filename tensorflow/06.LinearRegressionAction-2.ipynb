{
 "cells": [
  {
   "cell_type": "code",
   "execution_count": 1,
   "metadata": {},
   "outputs": [
    {
     "data": {
      "text/html": [
       "<div>\n",
       "<style scoped>\n",
       "    .dataframe tbody tr th:only-of-type {\n",
       "        vertical-align: middle;\n",
       "    }\n",
       "\n",
       "    .dataframe tbody tr th {\n",
       "        vertical-align: top;\n",
       "    }\n",
       "\n",
       "    .dataframe thead th {\n",
       "        text-align: right;\n",
       "    }\n",
       "</style>\n",
       "<table border=\"1\" class=\"dataframe\">\n",
       "  <thead>\n",
       "    <tr style=\"text-align: right;\">\n",
       "      <th></th>\n",
       "      <th>ones</th>\n",
       "      <th>square</th>\n",
       "      <th>bedrooms</th>\n",
       "      <th>price</th>\n",
       "    </tr>\n",
       "  </thead>\n",
       "  <tbody>\n",
       "    <tr>\n",
       "      <th>0</th>\n",
       "      <td>1.0</td>\n",
       "      <td>-0.664869</td>\n",
       "      <td>-0.411568</td>\n",
       "      <td>0.005698</td>\n",
       "    </tr>\n",
       "    <tr>\n",
       "      <th>1</th>\n",
       "      <td>1.0</td>\n",
       "      <td>1.818707</td>\n",
       "      <td>0.708041</td>\n",
       "      <td>0.649258</td>\n",
       "    </tr>\n",
       "    <tr>\n",
       "      <th>2</th>\n",
       "      <td>1.0</td>\n",
       "      <td>1.686088</td>\n",
       "      <td>-0.411568</td>\n",
       "      <td>0.595628</td>\n",
       "    </tr>\n",
       "    <tr>\n",
       "      <th>3</th>\n",
       "      <td>1.0</td>\n",
       "      <td>1.336459</td>\n",
       "      <td>1.827651</td>\n",
       "      <td>0.474961</td>\n",
       "    </tr>\n",
       "    <tr>\n",
       "      <th>4</th>\n",
       "      <td>1.0</td>\n",
       "      <td>-0.713093</td>\n",
       "      <td>1.827651</td>\n",
       "      <td>-0.250385</td>\n",
       "    </tr>\n",
       "  </tbody>\n",
       "</table>\n",
       "</div>"
      ],
      "text/plain": [
       "   ones    square  bedrooms     price\n",
       "0   1.0 -0.664869 -0.411568  0.005698\n",
       "1   1.0  1.818707  0.708041  0.649258\n",
       "2   1.0  1.686088 -0.411568  0.595628\n",
       "3   1.0  1.336459  1.827651  0.474961\n",
       "4   1.0 -0.713093  1.827651 -0.250385"
      ]
     },
     "execution_count": 1,
     "metadata": {},
     "output_type": "execute_result"
    }
   ],
   "source": [
    "import pandas as pd\n",
    "import numpy as np\n",
    "\n",
    "def normalize_feature(df):\n",
    "    return df.apply(lambda column: (column - column.mean()) / column.std())\n",
    "\n",
    "df = normalize_feature(pd.read_csv('datas/04/train_3d.csv', names = ['square', 'bedrooms', 'price']))\n",
    "\n",
    "ones = pd.DataFrame({'ones': np.ones(len(df))})\n",
    "df = pd.concat([ones,df], axis=1)\n",
    "\n",
    "df.head()"
   ]
  },
  {
   "cell_type": "markdown",
   "metadata": {},
   "source": [
    "### 数据处理：获取x和y"
   ]
  },
  {
   "cell_type": "code",
   "execution_count": 3,
   "metadata": {},
   "outputs": [
    {
     "name": "stdout",
     "output_type": "stream",
     "text": [
      "(10000, 3) <class 'numpy.ndarray'>\n",
      "(10000, 1) <class 'numpy.ndarray'>\n"
     ]
    }
   ],
   "source": [
    "X_data = np.array(df[df.columns[0:3]])\n",
    "y_data = np.array(df[df.columns[-1]]).reshape(len(df), 1)\n",
    "\n",
    "print(X_data.shape, type(X_data))\n",
    "print(y_data.shape, type(y_data))"
   ]
  },
  {
   "cell_type": "markdown",
   "metadata": {},
   "source": [
    "### 创建线性回归模型（数据流图）"
   ]
  },
  {
   "cell_type": "code",
   "execution_count": null,
   "metadata": {},
   "outputs": [],
   "source": [
    "import tensorflow as tf\n",
    "\n",
    "alpha = 0.01 # 学习率\n",
    "epoch = 400 # 训练全量数据集的轮数\n",
    "\n",
    "# 输入 X，形状[10000,3]\n",
    "X = tf.placeholder(tf.float32, X_data.shape)\n",
    "# 输入 y，形状[10000,1]\n",
    "y = tf.placeholder(tf.float32, y_data.shape)\n",
    "\n",
    "# weight [3, 1]\n",
    "W = tf.get_variable('weights',(X_data.shape[1], 1), initializer=tf.constant_initializer())\n",
    "\n",
    "# 假设函数 h(x) = w_0 * x_0 + w_1 * x_1 + w_2 * x_2, 其中x_0恒为1\n",
    "# 推理值 y_pred [1000,1]\n",
    "y_pred = tf.matmul(X, W)\n",
    "\n",
    "# 损失函数采用最小二乘法，y_pred - y 是形如[1000,1]的向量\n",
    "# tf.matmul(a, b, transpose_a=True) 表示：矩阵a的转置乘矩阵b，即 [1,1000] x [1000,1]\n",
    "# 损失函数操作 loss\n",
    "loss_op = 1 / (2 * len(X_data)) * tf.matmul((y_pred - y), (y_pred - y), transpose_a=True)\n",
    "\n",
    "# 随机梯度下降优化器 opt\n",
    "opt = tf.train.GradientDescentOptimizer(learning_rate=alpha)\n",
    "\n",
    "# 单步训练操作 train_op\n",
    "train_op = opt.minimize(loss_op)"
   ]
  },
  {
   "cell_type": "markdown",
   "metadata": {},
   "source": [
    "### 创建会话（运行环境）"
   ]
  },
  {
   "cell_type": "code",
   "execution_count": null,
   "metadata": {},
   "outputs": [],
   "source": [
    "with tf.Session() as sess:\n",
    "    sess.run(tf.global_variables_initializer())\n",
    "    \n",
    "    for e in range(1, epoch + 1):\n",
    "        sess.run(train_op, feed_dict={X: X_data, y: y_data})\n",
    "        if e % 10 == 0:\n",
    "            loss, w = sess.run([loss_op, W], feed_dict={X: X_data, y: y_data})\n",
    "            log_str = \"Epoch_%d \\t Loss=%.4g \\t Model: y = %.4gx1 + %.4gx2 + %.4g\"\n",
    "            print(log_str % (e, loss, w[1], w[2], w[0]))"
   ]
  }
 ],
 "metadata": {
  "kernelspec": {
   "display_name": "Python 3",
   "language": "python",
   "name": "python3"
  },
  "language_info": {
   "codemirror_mode": {
    "name": "ipython",
    "version": 3
   },
   "file_extension": ".py",
   "mimetype": "text/x-python",
   "name": "python",
   "nbconvert_exporter": "python",
   "pygments_lexer": "ipython3",
   "version": "3.6.8"
  }
 },
 "nbformat": 4,
 "nbformat_minor": 2
}
