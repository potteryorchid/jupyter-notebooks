{
 "cells": [
  {
   "cell_type": "markdown",
   "metadata": {},
   "source": [
    "# 房价预测模型\n",
    "\n",
    "### 前置知识：监督学习（Supervised Learning）\n",
    "\n",
    "监督学习是机器学习的一种方法，指从训练数据（输入和预期输出）中学到一个模型（函数），并根据模型可以推断新实例的方法。\n",
    "\n",
    "函数的输出通常为一个连续值（回归分析）或类别标签（分类）。\n",
    "\n",
    "<img width=80% height=80% src=\"imgs/04/01.jpeg\" alt=\"imgs/04/01.jpeg\" title=\"图1\" />\n",
    "\n",
    "### 前置知识：监督学习典型算法\n",
    "\n",
    "- 线性回归（Linear Regression）\n",
    "- 逻辑回归（Logistic Regression）\n",
    "- 决策树（Decision Tree）\n",
    "- 随机森林（Random Forest）\n",
    "- 最近邻算法（KNN）\n",
    "- 朴素贝叶斯（Naive Bayes）\n",
    "- 支持向量机（SVM）\n",
    "- 感知器（Perceptron）\n",
    "- 深度神经网络（DNN）\n",
    "\n",
    "<img width=80% height=80% src=\"imgs/04/02.jpeg\" alt=\"imgs/04/02.jpeg\" title=\"图2\" />\n",
    "\n",
    "### 前置知识：线性回归\n",
    "\n",
    "在统计学中，线性回归是利用称为线性回归方程的$\\color{#ea4339}{最小二乘函数}$对$\\color{#ea4339}{一个}$或$\\color{#ea4339}{多个}$自变量和因变量之间关系进行建模的一种回归分析。这种函数是一个或多个称为回归系数的模型参数的线性组合。\n",
    "\n",
    "<img width=80% height=80% src=\"imgs/04/03.jpeg\" alt=\"imgs/04/03.jpeg\" title=\"图3\" />\n",
    "\n",
    "### 前置知识：单变量线性回归\n",
    "\n",
    "理想函数：\n",
    "$$y=b+wx$$\n",
    "\n",
    "假设函数：\n",
    "$$h_{\\theta}(x)={\\theta}_0+{\\theta}_1 x_1={\\theta}^T x$$\n",
    "$$h_{\\theta}(x)={\\theta}_0 x_0+{\\theta}_1 x_1={\\theta}^T x \\qquad (x_0=1)$$\n",
    "\n",
    "损失值（误差）：\n",
    "$$loss=y-h_\\theta(x)$$\n",
    "\n",
    "为了从一组样本$(x^{(i)},y^{(i)})$(其中$i=1,2,...,n$)之中估计最合适（误差最小）的$\\theta_0$和$\\theta_1$，通常采用最小二乘法，其优化目标为最小化残差平方和：\n",
    "\n",
    "$$J(\\theta)=\\frac{1}{n}\\sum_{i}^{n}(h_{\\theta}(x^{(i)})-y^{(i)})^2$$"
   ]
  },
  {
   "cell_type": "code",
   "execution_count": null,
   "metadata": {},
   "outputs": [],
   "source": []
  },
  {
   "cell_type": "code",
   "execution_count": null,
   "metadata": {},
   "outputs": [],
   "source": []
  }
 ],
 "metadata": {
  "kernelspec": {
   "display_name": "py2",
   "language": "python",
   "name": "py2"
  },
  "language_info": {
   "codemirror_mode": {
    "name": "ipython",
    "version": 2
   },
   "file_extension": ".py",
   "mimetype": "text/x-python",
   "name": "python",
   "nbconvert_exporter": "python",
   "pygments_lexer": "ipython2",
   "version": "2.7.17"
  }
 },
 "nbformat": 4,
 "nbformat_minor": 2
}
