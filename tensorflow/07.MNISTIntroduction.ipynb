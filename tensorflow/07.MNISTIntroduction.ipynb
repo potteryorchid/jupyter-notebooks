{
 "cells": [
  {
   "cell_type": "markdown",
   "metadata": {},
   "source": [
    "# MNIST Dataset Introduction\n",
    "\n",
    "[1]:http://yann.lecun.com/exdb/mnist/\n",
    "\n",
    "[MNIST][1]是一套手写体数字的图像数据集合，包含60000个训练样例和10000个测试样例，由纽约大学的Yann LeCun等人维护。\n",
    "\n",
    "<img width=80% height=80% src=\"imgs/02/01.jpeg\" alt=\"imgs/02/01.jpeg\" title=\"图1\" />\n",
    "\n",
    "### Introduction to Handwritten MNIST Array\n",
    "\n",
    "MNIST图像数据集使用形如 [28, 28] 的二阶数组表示每个手写体数字，数组中的每个元素对应一个像素点，即每张图像大小固定为 28*28 像素。\n",
    "\n",
    "<img width=80% height=80% src=\"imgs/07/01.png\" alt=\"imgs/07/01.png\" title=\"图2\" />\n",
    "\n",
    "MNIST数据集中的图像都是256阶灰度图，即灰度值0表示白色（背景），255表示黑色（前景），使用取值为[0,255]的uint8数据类型表示图像。为了加速训练，我们需要做数据规范化，将灰度值缩放为[0,1]的float32数据类型。\n",
    "\n",
    "<img width=80% height=80% src=\"imgs/07/02.png\" alt=\"imgs/07/02.png\" title=\"图3\" />\n",
    "\n",
    "由于每张图像的尺寸都是28*28像素，为了方便连续存储，我们可以将形如[28,28]的二阶数组“摊平”成形如[784, ]的一阶数组，可以表示 $256*256*...*256=256^{784}$张不同的图像。\n",
    "\n",
    "但这些图像并非每一张都代表有效的手写体数字，其中绝大部分都是如下的噪声图：\n",
    "\n",
    "<img width=80% height=80% src=\"imgs/07/03.png\" alt=\"imgs/07/03.png\" title=\"图4\" />\n",
    "\n",
    "### Download MNIST Data Set\n",
    "\n",
    "一个曾广泛使用（如 chapter-2/basic-model.ipynb），如今被废弃的（deprecated）方法:"
   ]
  },
  {
   "cell_type": "code",
   "execution_count": 2,
   "metadata": {},
   "outputs": [
    {
     "name": "stdout",
     "output_type": "stream",
     "text": [
      "WARNING:tensorflow:From <ipython-input-2-a3a76fbe88c7>:5: read_data_sets (from tensorflow.contrib.learn.python.learn.datasets.mnist) is deprecated and will be removed in a future version.\n",
      "Instructions for updating:\n",
      "Please use alternatives such as official/mnist/dataset.py from tensorflow/models.\n",
      "WARNING:tensorflow:From d:\\env\\py3\\lib\\site-packages\\tensorflow\\contrib\\learn\\python\\learn\\datasets\\mnist.py:260: maybe_download (from tensorflow.contrib.learn.python.learn.datasets.base) is deprecated and will be removed in a future version.\n",
      "Instructions for updating:\n",
      "Please write your own downloading logic.\n",
      "WARNING:tensorflow:From d:\\env\\py3\\lib\\site-packages\\tensorflow\\contrib\\learn\\python\\learn\\datasets\\mnist.py:262: extract_images (from tensorflow.contrib.learn.python.learn.datasets.mnist) is deprecated and will be removed in a future version.\n",
      "Instructions for updating:\n",
      "Please use tf.data to implement this functionality.\n",
      "Extracting datas/mnist\\train-images-idx3-ubyte.gz\n",
      "WARNING:tensorflow:From d:\\env\\py3\\lib\\site-packages\\tensorflow\\contrib\\learn\\python\\learn\\datasets\\mnist.py:267: extract_labels (from tensorflow.contrib.learn.python.learn.datasets.mnist) is deprecated and will be removed in a future version.\n",
      "Instructions for updating:\n",
      "Please use tf.data to implement this functionality.\n",
      "Extracting datas/mnist\\train-labels-idx1-ubyte.gz\n",
      "Extracting datas/mnist\\t10k-images-idx3-ubyte.gz\n",
      "Extracting datas/mnist\\t10k-labels-idx1-ubyte.gz\n",
      "WARNING:tensorflow:From d:\\env\\py3\\lib\\site-packages\\tensorflow\\contrib\\learn\\python\\learn\\datasets\\mnist.py:290: DataSet.__init__ (from tensorflow.contrib.learn.python.learn.datasets.mnist) is deprecated and will be removed in a future version.\n",
      "Instructions for updating:\n",
      "Please use alternatives such as official/mnist/dataset.py from tensorflow/models.\n"
     ]
    }
   ],
   "source": [
    "import tensorflow as tf\n",
    "\n",
    "from tensorflow.examples.tutorials.mnist import input_data\n",
    "\n",
    "mnist = input_data.read_data_sets('datas/mnist')"
   ]
  },
  {
   "cell_type": "code",
   "execution_count": 4,
   "metadata": {},
   "outputs": [
    {
     "name": "stdout",
     "output_type": "stream",
     "text": [
      "Extracting datas/mnist\\train-images-idx3-ubyte.gz\n",
      "Extracting datas/mnist\\train-labels-idx1-ubyte.gz\n",
      "Extracting datas/mnist\\t10k-images-idx3-ubyte.gz\n",
      "Extracting datas/mnist\\t10k-labels-idx1-ubyte.gz\n"
     ]
    }
   ],
   "source": [
    "from __future__ import print_function\n",
    "\n",
    "# import dataset\n",
    "from tensorflow.examples.tutorials.mnist import input_data\n",
    "mnist = input_data.read_data_sets('datas/mnist', one_hot=True)\n",
    "\n",
    "import tensorflow as tf"
   ]
  },
  {
   "cell_type": "markdown",
   "metadata": {},
   "source": [
    "### Download MNIST Data Set by Keras\n",
    "\n"
   ]
  },
  {
   "cell_type": "code",
   "execution_count": 3,
   "metadata": {},
   "outputs": [],
   "source": [
    "# super params\n",
    "learning_rate = 0.1\n",
    "num_steps = 500\n",
    "batch_size = 128\n",
    "display_step = 100\n",
    "\n",
    "# neural network params\n",
    "n_hidden_1 = 256 # first level nodes nums\n",
    "n_hidden_2 = 256 # sencond level nodes nums\n",
    "num_input = 784 # mnist datasize (28*28)\n",
    "num_classes = 10 # mnist classify nums (0-9)\n",
    "\n",
    "# input train datas\n",
    "X = tf.placeholder(\"float\", [None, num_input])\n",
    "Y = tf.placeholder(\"float\", [None, num_classes])"
   ]
  },
  {
   "cell_type": "code",
   "execution_count": 4,
   "metadata": {},
   "outputs": [],
   "source": [
    "# weights & biases\n",
    "weights = {\n",
    "    'h1': tf.Variable(tf.random_normal([num_input, n_hidden_1])),\n",
    "    'h2': tf.Variable(tf.random_normal([n_hidden_1, n_hidden_2])),\n",
    "    'out': tf.Variable(tf.random_normal([n_hidden_2, num_classes]))\n",
    "}\n",
    "\n",
    "biases = {\n",
    "    'b1': tf.Variable(tf.random_normal([n_hidden_1])),\n",
    "    'b2': tf.Variable(tf.random_normal([n_hidden_2])),\n",
    "    'out': tf.Variable(tf.random_normal([num_classes]))\n",
    "}"
   ]
  },
  {
   "cell_type": "code",
   "execution_count": 5,
   "metadata": {},
   "outputs": [],
   "source": [
    "# neural network\n",
    "def neural_next(x):\n",
    "    layer_1 = tf.add(tf.matmul(x, weights['h1']), biases['b1'])\n",
    "    \n",
    "    layer_2 = tf.add(tf.matmul(layer_1, weights['h2']), biases['b2'])\n",
    "    \n",
    "    out_layer = tf.matmul(layer_2, weights['out']) + biases['out']\n",
    "    \n",
    "    return out_layer"
   ]
  },
  {
   "cell_type": "code",
   "execution_count": 6,
   "metadata": {},
   "outputs": [
    {
     "name": "stdout",
     "output_type": "stream",
     "text": [
      "WARNING:tensorflow:From <ipython-input-6-93f279f5683d>:5: softmax_cross_entropy_with_logits (from tensorflow.python.ops.nn_ops) is deprecated and will be removed in a future version.\n",
      "Instructions for updating:\n",
      "\n",
      "Future major versions of TensorFlow will allow gradients to flow\n",
      "into the labels input on backprop by default.\n",
      "\n",
      "See `tf.nn.softmax_cross_entropy_with_logits_v2`.\n",
      "\n",
      "WARNING:tensorflow:From <ipython-input-6-93f279f5683d>:10: arg_max (from tensorflow.python.ops.gen_math_ops) is deprecated and will be removed in a future version.\n",
      "Instructions for updating:\n",
      "Use `argmax` instead\n"
     ]
    }
   ],
   "source": [
    "# definded models\n",
    "logits = neural_next(X)\n",
    "\n",
    "# definded lossfunction & optimizer\n",
    "loss_func = tf.reduce_mean(tf.nn.softmax_cross_entropy_with_logits(logits=logits, labels=Y))\n",
    "optimizer = tf.train.AdamOptimizer(learning_rate=learning_rate)\n",
    "train_op = optimizer.minimize(loss_func)\n",
    "\n",
    "# definded accuracy\n",
    "correct_pred = tf.equal(tf.arg_max(logits, 1), tf.arg_max(Y, 1))\n",
    "accuracy = tf.reduce_mean(tf.cast(correct_pred, tf.float32))\n",
    "\n",
    "# init params\n",
    "init = tf.global_variables_initializer()"
   ]
  },
  {
   "cell_type": "code",
   "execution_count": 10,
   "metadata": {},
   "outputs": [
    {
     "name": "stdout",
     "output_type": "stream",
     "text": [
      "Step1 >>> Minibatch_Loss=7484.1797   Training_Accuracy=0.477\n",
      "Step100 >>> Minibatch_Loss=296.4350   Training_Accuracy=0.820\n",
      "Step200 >>> Minibatch_Loss=166.7542   Training_Accuracy=0.812\n",
      "Step300 >>> Minibatch_Loss=36.3193   Training_Accuracy=0.914\n",
      "Step400 >>> Minibatch_Loss=54.9062   Training_Accuracy=0.906\n",
      "Step500 >>> Minibatch_Loss=34.8032   Training_Accuracy=0.867\n",
      "Optimization Finished!\n",
      "Testing Accuracy: 0.852\n"
     ]
    }
   ],
   "source": [
    "# start training\n",
    "with tf.Session() as sess:\n",
    "    # running initializer\n",
    "    sess.run(init)\n",
    "    \n",
    "    for step in range(1, num_steps+1):\n",
    "        batch_x, batch_y = mnist.train.next_batch(batch_size)\n",
    "        # training\n",
    "        sess.run(train_op, feed_dict={X: batch_x, Y: batch_y})\n",
    "        if step % display_step == 0 or step ==1:\n",
    "            loss, acc = sess.run([loss_func, accuracy], feed_dict={X: batch_x, Y: batch_y})\n",
    "            \n",
    "            print(\"Step\" + str(step) + \\\n",
    "                  \" >>> Minibatch_Loss=\" + \"{:.4f}\".format(loss) + \\\n",
    "                  \"   Training_Accuracy=\" + \"{:.3f}\".format(acc))\n",
    "            \n",
    "    print(\"Optimization Finished!\")\n",
    "            \n",
    "    # calculate accuracy\n",
    "    print(\"Testing Accuracy:\", sess.run(accuracy, feed_dict={X: mnist.test.images,\n",
    "                                                                     Y: mnist.test.labels}))"
   ]
  },
  {
   "cell_type": "code",
   "execution_count": null,
   "metadata": {},
   "outputs": [],
   "source": []
  }
 ],
 "metadata": {
  "kernelspec": {
   "display_name": "Python 3",
   "language": "python",
   "name": "python3"
  },
  "language_info": {
   "codemirror_mode": {
    "name": "ipython",
    "version": 3
   },
   "file_extension": ".py",
   "mimetype": "text/x-python",
   "name": "python",
   "nbconvert_exporter": "python",
   "pygments_lexer": "ipython3",
   "version": "3.6.8"
  }
 },
 "nbformat": 4,
 "nbformat_minor": 2
}
