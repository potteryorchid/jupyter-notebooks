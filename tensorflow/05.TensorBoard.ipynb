{
 "cells": [
  {
   "cell_type": "markdown",
   "metadata": {},
   "source": [
    "# TensorBoard 可视化工具\n",
    "\n",
    "在数据处理过程中，用户通常想要可以直观查看$\\color{#ea4339}{数据集}$的分布情况。\n",
    "\n",
    "在模型设计过程中，用户需要分析和检查$\\color{#ea4339}{数据流图}$是否正确实现。\n",
    "\n",
    "在模型训练过程中，用户也需要关注$\\color{#ea4339}{模型参数}$和$\\color{#ea4339}{超参数}$变化趋势。\n",
    "\n",
    "在模型测试过程中，用户也要查看$\\color{#ea4339}{准确率}$和$\\color{#ea4339}{召回率}$等评估指标。\n",
    "\n",
    "因此，$TensorFlow$项目组开发了机器学习可视化工具$\\color{#ea4339}{TensorBoard}$,它通过展示直观的图形，能够有效地辅助机器学习程序的开发者和使用者理解算法模型及其工作流程，提升模型开发工作效率。\n",
    "\n",
    "### TensorBoard 可视化训练\n",
    "\n",
    "<img width=80% height=80% src=\"imgs/05/01.png\" alt=\"imgs/05/01.png\" title=\"图1\" />\n",
    "\n",
    "### TensorBoard 可视化统计数据\n",
    "\n",
    "<img width=80% height=80% src=\"imgs/05/02.png\" alt=\"imgs/05/02.png\" title=\"图2\" />\n",
    "\n",
    "### TensorBoard 可视化数据分布\n",
    "\n",
    "<img width=80% height=80% src=\"imgs/05/03.png\" alt=\"imgs/05/03.png\" title=\"图3\" />\n",
    "\n",
    "### TensorBoard 可视化数据集（MNIST）\n",
    "\n",
    "<img width=80% height=80% src=\"imgs/05/04.png\" alt=\"imgs/05/04.png\" title=\"图4\" />\n",
    "\n",
    "### TensorBoard 可视化数据流图\n",
    "\n",
    "<img width=80% height=80% src=\"imgs/05/05.png\" alt=\"imgs/05/05.png\" title=\"图5\" />\n",
    "\n",
    "### TensorBoard 使用流程\n",
    "\n",
    "可视化的数据是数据流图和张量，它们需要在会话中加载或执行操作后才能获取。然后，用户需要使用$\\color{#ea4339}{FileWriter}$实例将这些数据写入事件文件。最后，启动$TensorBoard$程序，加载事件文件中的序列化数据，从而可以在各个面板中展示对应的可视化对象。\n",
    "\n",
    "<img width=80% height=80% src=\"imgs/05/06.png\" alt=\"imgs/05/06.png\" title=\"图6\" />\n",
    "\n",
    "### tf.summary 模块介绍\n",
    "\n",
    "前述流程中使用的FileWriter实例和汇总操作(Summary Ops)均属于tf.summary模块。其主要功能是获取和输出模型相关的序列化数据，它贯通TensorBoard的整个使用流程。\n",
    "\n",
    "tf.summary模块的核心部分由一组汇总操作以及FileWriter、Summary和Event 3个类组成。\n",
    "\n",
    "<img width=60% height=60% src=\"imgs/05/07.png\" alt=\"imgs/05/07.png\" title=\"图7\" />"
   ]
  },
  {
   "cell_type": "markdown",
   "metadata": {},
   "source": [
    "# 可视化数据流图 工作流\n",
    "\n",
    "<img width=80% height=80% src=\"imgs/05/08.png\" alt=\"imgs/05/08.png\" title=\"图8\" />\n",
    "\n",
    "#### Which one is better ?\n",
    "\n",
    "<img width=80% height=80% src=\"imgs/05/09.png\" alt=\"imgs/05/09.png\" title=\"图9\" />\n",
    "\n",
    "### 名字作用域与抽象节点\n"
   ]
  },
  {
   "cell_type": "code",
   "execution_count": 3,
   "metadata": {},
   "outputs": [
    {
     "name": "stdout",
     "output_type": "stream",
     "text": [
      "(10000, 3) <class 'numpy.ndarray'>\n",
      "(10000, 1) <class 'numpy.ndarray'>\n"
     ]
    }
   ],
   "source": [
    "#Numpy 数据处理\n",
    "import pandas as pd\n",
    "import numpy as np\n",
    "\n",
    "def normalize_feature(df):\n",
    "    return df.apply(lambda column: (column - column.mean()) / column.std())\n",
    "\n",
    "df = normalize_feature(pd.read_csv('datas/04/train_3d.csv', names=['square', 'bedrooms', 'price']))\n",
    "\n",
    "ones = pd.DataFrame({'ones': np.ones(len(df))}) #ones是n行1列的数据框，表示x0恒为1\n",
    "df = pd.concat([ones,df], axis=1) #根据列合并数据\n",
    "\n",
    "X_data = np.array(df[df.columns[0:3]]) #取的0-2列，即前三列；左闭右开的区间\n",
    "y_data = np.array(df[df.columns[-1]]).reshape(len(df), 1) #-1就是最后一列\n",
    "\n",
    "print(X_data.shape, type(X_data))\n",
    "print(y_data.shape, type(y_data))"
   ]
  },
  {
   "cell_type": "code",
   "execution_count": 4,
   "metadata": {},
   "outputs": [
    {
     "name": "stderr",
     "output_type": "stream",
     "text": [
      "/Users/po/Documents/repo/venv/py3/lib/python3.6/site-packages/tensorflow/python/framework/dtypes.py:523: FutureWarning: Passing (type, 1) or '1type' as a synonym of type is deprecated; in a future version of numpy, it will be understood as (type, (1,)) / '(1,)type'.\n",
      "  _np_qint8 = np.dtype([(\"qint8\", np.int8, 1)])\n",
      "/Users/po/Documents/repo/venv/py3/lib/python3.6/site-packages/tensorflow/python/framework/dtypes.py:524: FutureWarning: Passing (type, 1) or '1type' as a synonym of type is deprecated; in a future version of numpy, it will be understood as (type, (1,)) / '(1,)type'.\n",
      "  _np_quint8 = np.dtype([(\"quint8\", np.uint8, 1)])\n",
      "/Users/po/Documents/repo/venv/py3/lib/python3.6/site-packages/tensorflow/python/framework/dtypes.py:525: FutureWarning: Passing (type, 1) or '1type' as a synonym of type is deprecated; in a future version of numpy, it will be understood as (type, (1,)) / '(1,)type'.\n",
      "  _np_qint16 = np.dtype([(\"qint16\", np.int16, 1)])\n",
      "/Users/po/Documents/repo/venv/py3/lib/python3.6/site-packages/tensorflow/python/framework/dtypes.py:526: FutureWarning: Passing (type, 1) or '1type' as a synonym of type is deprecated; in a future version of numpy, it will be understood as (type, (1,)) / '(1,)type'.\n",
      "  _np_quint16 = np.dtype([(\"quint16\", np.uint16, 1)])\n",
      "/Users/po/Documents/repo/venv/py3/lib/python3.6/site-packages/tensorflow/python/framework/dtypes.py:527: FutureWarning: Passing (type, 1) or '1type' as a synonym of type is deprecated; in a future version of numpy, it will be understood as (type, (1,)) / '(1,)type'.\n",
      "  _np_qint32 = np.dtype([(\"qint32\", np.int32, 1)])\n",
      "/Users/po/Documents/repo/venv/py3/lib/python3.6/site-packages/tensorflow/python/framework/dtypes.py:532: FutureWarning: Passing (type, 1) or '1type' as a synonym of type is deprecated; in a future version of numpy, it will be understood as (type, (1,)) / '(1,)type'.\n",
      "  np_resource = np.dtype([(\"resource\", np.ubyte, 1)])\n"
     ]
    }
   ],
   "source": [
    "import tensorflow as tf\n",
    "\n",
    "alpha = 0.01 # 学习率\n",
    "epoch = 400 # 训练全量数据集的轮数\n",
    "\n",
    "# 创建线性回归模型\n",
    "\n",
    "with tf.name_scope('input'):\n",
    "    # 输入 X，形状[10000,3]\n",
    "    X = tf.placeholder(tf.float32, X_data.shape)\n",
    "    # 输入 X，形状[10000,1]\n",
    "    y = tf.placeholder(tf.float32, y_data.shape)\n",
    "\n",
    "with tf.name_scope('hypothesis'):\n",
    "    # weight [3, 1]\n",
    "    W = tf.get_variable('weights',(X_data.shape[1], 1), initializer=tf.constant_initializer())\n",
    "    # 假设函数 h(x) = w_0 * x_0 + w_1 * x_1 + w_2 * x_2, 其中x_0恒为1\n",
    "    # 推理值 y_pred [1000,1]\n",
    "    y_pred = tf.matmul(X, W)\n",
    "\n",
    "with tf.name_scope('loss'):\n",
    "    # 损失函数采用最小二乘法，y_pred - y 是形如[1000,1]的向量\n",
    "    # tf.matmul(a, b, transpose_a=True) 表示：矩阵a的转置乘矩阵b，即 [1,1000] x [1000,1]\n",
    "    # 损失函数操作 loss\n",
    "    loss_op = 1 / (2 * len(X_data)) * tf.matmul((y_pred - y), (y_pred - y), transpose_a=True)\n",
    "\n",
    "with tf.name_scope('train'):\n",
    "    # 随机梯度下降优化器 opt\n",
    "    opt = tf.train.GradientDescentOptimizer(learning_rate=alpha)\n",
    "    \n",
    "    # 单步训练操作 train_op\n",
    "    train_op = opt.minimize(loss_op)"
   ]
  },
  {
   "cell_type": "code",
   "execution_count": 5,
   "metadata": {},
   "outputs": [
    {
     "name": "stdout",
     "output_type": "stream",
     "text": [
      "Epoch_10 \t Loss=0.4596 \t Model: y = 0.05679x1 + 0.02882x2 + 2.765e-10\n",
      "Epoch_20 \t Loss=0.4291 \t Model: y = 0.1069x1 + 0.0524x2 + 3.658e-10\n",
      "Epoch_30 \t Loss=0.4059 \t Model: y = 0.1513x1 + 0.07152x2 + 3.859e-10\n",
      "Epoch_40 \t Loss=0.3881 \t Model: y = 0.1906x1 + 0.08687x2 + 3.606e-10\n",
      "Epoch_50 \t Loss=0.3746 \t Model: y = 0.2255x1 + 0.09902x2 + 1.516e-10\n",
      "Epoch_60 \t Loss=0.3641 \t Model: y = 0.2566x1 + 0.1085x2 + -4.278e-11\n",
      "Epoch_70 \t Loss=0.3559 \t Model: y = 0.2843x1 + 0.1157x2 + -2.494e-10\n",
      "Epoch_80 \t Loss=0.3495 \t Model: y = 0.309x1 + 0.1209x2 + -3.376e-10\n",
      "Epoch_90 \t Loss=0.3445 \t Model: y = 0.3312x1 + 0.1246x2 + -3.82e-10\n",
      "Epoch_100 \t Loss=0.3405 \t Model: y = 0.3511x1 + 0.1269x2 + -5.777e-10\n",
      "Epoch_110 \t Loss=0.3373 \t Model: y = 0.3691x1 + 0.1282x2 + -7.139e-10\n",
      "Epoch_120 \t Loss=0.3347 \t Model: y = 0.3853x1 + 0.1285x2 + -9.823e-10\n",
      "Epoch_130 \t Loss=0.3325 \t Model: y = 0.3999x1 + 0.1281x2 + -1.124e-09\n",
      "Epoch_140 \t Loss=0.3308 \t Model: y = 0.4132x1 + 0.127x2 + -1.142e-09\n",
      "Epoch_150 \t Loss=0.3293 \t Model: y = 0.4252x1 + 0.1255x2 + -1.165e-09\n",
      "Epoch_160 \t Loss=0.328 \t Model: y = 0.4362x1 + 0.1236x2 + -1.301e-09\n",
      "Epoch_170 \t Loss=0.327 \t Model: y = 0.4462x1 + 0.1214x2 + -1.217e-09\n",
      "Epoch_180 \t Loss=0.3261 \t Model: y = 0.4554x1 + 0.1189x2 + -1.107e-09\n",
      "Epoch_190 \t Loss=0.3253 \t Model: y = 0.4638x1 + 0.1163x2 + -1.225e-09\n",
      "Epoch_200 \t Loss=0.3246 \t Model: y = 0.4716x1 + 0.1135x2 + -1.31e-09\n",
      "Epoch_210 \t Loss=0.3241 \t Model: y = 0.4787x1 + 0.1107x2 + -1.399e-09\n",
      "Epoch_220 \t Loss=0.3235 \t Model: y = 0.4853x1 + 0.1078x2 + -1.626e-09\n",
      "Epoch_230 \t Loss=0.3231 \t Model: y = 0.4914x1 + 0.1049x2 + -1.76e-09\n",
      "Epoch_240 \t Loss=0.3227 \t Model: y = 0.497x1 + 0.102x2 + -1.714e-09\n",
      "Epoch_250 \t Loss=0.3223 \t Model: y = 0.5023x1 + 0.09915x2 + -1.797e-09\n",
      "Epoch_260 \t Loss=0.322 \t Model: y = 0.5071x1 + 0.09631x2 + -1.798e-09\n",
      "Epoch_270 \t Loss=0.3217 \t Model: y = 0.5117x1 + 0.09353x2 + -1.819e-09\n",
      "Epoch_280 \t Loss=0.3215 \t Model: y = 0.5159x1 + 0.09081x2 + -1.876e-09\n",
      "Epoch_290 \t Loss=0.3213 \t Model: y = 0.5198x1 + 0.08816x2 + -1.843e-09\n",
      "Epoch_300 \t Loss=0.3211 \t Model: y = 0.5235x1 + 0.08558x2 + -1.959e-09\n",
      "Epoch_310 \t Loss=0.3209 \t Model: y = 0.527x1 + 0.08309x2 + -2.067e-09\n",
      "Epoch_320 \t Loss=0.3207 \t Model: y = 0.5302x1 + 0.08068x2 + -2.327e-09\n",
      "Epoch_330 \t Loss=0.3206 \t Model: y = 0.5333x1 + 0.07835x2 + -2.461e-09\n",
      "Epoch_340 \t Loss=0.3204 \t Model: y = 0.5361x1 + 0.07611x2 + -2.508e-09\n",
      "Epoch_350 \t Loss=0.3203 \t Model: y = 0.5388x1 + 0.07395x2 + -2.531e-09\n",
      "Epoch_360 \t Loss=0.3202 \t Model: y = 0.5413x1 + 0.07188x2 + -2.51e-09\n",
      "Epoch_370 \t Loss=0.3201 \t Model: y = 0.5437x1 + 0.06989x2 + -2.537e-09\n",
      "Epoch_380 \t Loss=0.32 \t Model: y = 0.5459x1 + 0.06799x2 + -2.769e-09\n",
      "Epoch_390 \t Loss=0.3199 \t Model: y = 0.5481x1 + 0.06616x2 + -2.893e-09\n",
      "Epoch_400 \t Loss=0.3199 \t Model: y = 0.5501x1 + 0.06442x2 + -2.96e-09\n"
     ]
    }
   ],
   "source": [
    "# create session\n",
    "with tf.Session() as sess:\n",
    "    sess.run(tf.global_variables_initializer())\n",
    "    # save sess graph\n",
    "    writer = tf.summary.FileWriter('./summary/linear-regression-5-1', sess.graph)\n",
    "    \n",
    "    for e in range(1, epoch + 1):\n",
    "        sess.run(train_op, feed_dict={X: X_data, y: y_data})\n",
    "        if e % 10 == 0:\n",
    "            loss, w = sess.run([loss_op, W], feed_dict={X: X_data, y: y_data})\n",
    "            log_str = \"Epoch_%d \\t Loss=%.4g \\t Model: y = %.4gx1 + %.4gx2 + %.4g\"\n",
    "            print(log_str % (e, loss, w[1], w[2], w[0]))\n",
    "            \n",
    "# close file writer\n",
    "writer.close()"
   ]
  },
  {
   "cell_type": "markdown",
   "metadata": {},
   "source": [
    "### 启动 TensorBoard\n",
    "\n",
    "<img width=80% height=80% src=\"imgs/05/10.png\" alt=\"imgs/05/10.png\" title=\"图10\" />"
   ]
  },
  {
   "cell_type": "code",
   "execution_count": null,
   "metadata": {},
   "outputs": [],
   "source": []
  }
 ],
 "metadata": {
  "kernelspec": {
   "display_name": "py3",
   "language": "python",
   "name": "py3"
  },
  "language_info": {
   "codemirror_mode": {
    "name": "ipython",
    "version": 3
   },
   "file_extension": ".py",
   "mimetype": "text/x-python",
   "name": "python",
   "nbconvert_exporter": "python",
   "pygments_lexer": "ipython3",
   "version": "3.6.5"
  }
 },
 "nbformat": 4,
 "nbformat_minor": 2
}
