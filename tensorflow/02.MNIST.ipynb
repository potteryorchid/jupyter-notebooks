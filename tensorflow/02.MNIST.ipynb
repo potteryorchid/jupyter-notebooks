{
 "cells": [
  {
   "cell_type": "markdown",
   "metadata": {},
   "source": [
    "# MNIST Dataset Overview\n",
    "\n",
    "[1]:http://yann.lecun.com/exdb/mnist/\n",
    "\n",
    "MNIST图像数据集使用形如$[28, 28]$的二阶数组来表示每张图像，数组中的每个元素对应一个像素点，该数据集中的图像都是256阶灰度图，像素值0表示白色（背景），256表示黑色（前景）。由于每张图像的尺寸都是28×28像素，为了方便连续存储，我们可以将形如$[28, 28]$的二阶数组“摊平”成形如$[784]$的一阶数组。数组中的784个元素共同组成了一个784维的向量。\n",
    "\n",
    "<img width=80% height=80% src=\"imgs/02/01.jpeg\" alt=\"imgs/02/01.jpeg\" title=\"图1\" />\n",
    "\n",
    "More info: [http://yann.lecun.com/exdb/mnist/][1]"
   ]
  },
  {
   "cell_type": "code",
   "execution_count": null,
   "metadata": {},
   "outputs": [],
   "source": [
    "from _future_ import print_function\n",
    "\n",
    "# import dataset\n",
    "from tensorflow.examples.tutorials.mnist import input_data\n",
    "mnist = input_data.read_data_sets(\"/\")"
   ]
  }
 ],
 "metadata": {
  "kernelspec": {
   "display_name": "py2",
   "language": "python",
   "name": "py2"
  },
  "language_info": {
   "codemirror_mode": {
    "name": "ipython",
    "version": 2
   },
   "file_extension": ".py",
   "mimetype": "text/x-python",
   "name": "python",
   "nbconvert_exporter": "python",
   "pygments_lexer": "ipython2",
   "version": "2.7.17"
  }
 },
 "nbformat": 4,
 "nbformat_minor": 2
}
