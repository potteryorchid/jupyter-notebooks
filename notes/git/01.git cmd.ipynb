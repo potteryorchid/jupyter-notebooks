{
 "cells": [
  {
   "cell_type": "markdown",
   "metadata": {},
   "source": [
    "# Git CMD"
   ]
  },
  {
   "cell_type": "markdown",
   "metadata": {},
   "source": [
    "## git stash"
   ]
  },
  {
   "cell_type": "markdown",
   "metadata": {},
   "source": [
    "```\n",
    "git stash save \"message\"  # 执行未提交本地存储命令\n",
    "\n",
    "git stash list  # 查看存储列表\n",
    "\n",
    "git stash show  # 显示最近一次存储\n",
    "git stash show stash@{n}  # 显示最近第 n 次存储\n",
    "\n",
    "git stash show -p  # 查看最近一次存储的变更内容\n",
    "git stash show stash@{n} -p  # 查看最近第 n 次存储的变更内容\n",
    "\n",
    "git stash apply  # 使用最近一次存储\n",
    "git stash apply stash@{n}  # 使用最近第 n 次存储\n",
    "\n",
    "git stash pop  # 使用并删除最近一次存储\n",
    "git stash pop stash@{n}  # 使用并删除最近第 n 次存储\n",
    "\n",
    "git stash drop  # 从列表中删除最近一次存储\n",
    "git stash drop stash@{n}  # 从列表中删除最近第 n 次存储\n",
    "\n",
    "git stash clear  # 删除所有缓存的stash\n",
    "\n",
    "```"
   ]
  },
  {
   "cell_type": "markdown",
   "metadata": {},
   "source": [
    "## git checkout"
   ]
  },
  {
   "cell_type": "markdown",
   "metadata": {},
   "source": [
    "```\n",
    "git checkout origin/remote_branch -b local_branch  # 从服务器拉取一个分支，并在本地新建对应分支，同时切换到本地新建分支\n",
    "\n",
    "```"
   ]
  },
  {
   "cell_type": "markdown",
   "metadata": {},
   "source": [
    "## git push"
   ]
  },
  {
   "cell_type": "markdown",
   "metadata": {},
   "source": [
    "```\n",
    "git push origin --delete master  # delete origin branch\n",
    "\n",
    "git push <远程主机名> <本地分支名>:<远程分支名>  # push local commit to remote server\n",
    "\n",
    "```"
   ]
  },
  {
   "cell_type": "markdown",
   "metadata": {},
   "source": [
    "## git branch"
   ]
  },
  {
   "cell_type": "markdown",
   "metadata": {},
   "source": [
    "```\n",
    "git branch -vv  # 显示本地分支对应远程分支\n",
    "\n",
    "```"
   ]
  },
  {
   "cell_type": "code",
   "execution_count": null,
   "metadata": {},
   "outputs": [],
   "source": []
  }
 ],
 "metadata": {
  "kernelspec": {
   "display_name": "Python 2",
   "language": "python",
   "name": "python2"
  },
  "language_info": {
   "codemirror_mode": {
    "name": "ipython",
    "version": 2
   },
   "file_extension": ".py",
   "mimetype": "text/x-python",
   "name": "python",
   "nbconvert_exporter": "python",
   "pygments_lexer": "ipython2",
   "version": "2.7.15"
  }
 },
 "nbformat": 4,
 "nbformat_minor": 2
}
