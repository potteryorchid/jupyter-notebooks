{
 "cells": [
  {
   "cell_type": "markdown",
   "metadata": {},
   "source": [
    "# 动态规划\n",
    "\n",
    "动态规划（dynamic programming）是$\\color{#EE7600}{运筹学}$的一个分支，是求解$\\color{#EE7600}{决策过程最优化}$的数学方法。它是20世纪50年代初美国数学家R.E.Bellman等人提出的$\\color{#EE7600}{最优化原理}$，它利用各阶段之间的关系，逐个求解，最终求得$\\color{#EE7600}{全局最优解}$。在设计动态规划算法时，需要确认原问题与子问题、动态规划状态、边界状态结值、状态转移方程等$\\color{#EE7600}{关键要素}$。"
   ]
  },
  {
   "cell_type": "markdown",
   "metadata": {},
   "source": [
    "### Change Issue"
   ]
  },
  {
   "cell_type": "markdown",
   "metadata": {},
   "source": [
    "已知$\\color{#EE7600}{不同面值}$的钞票，求如何用$\\color{#EE7600}{最少数量}$的钞票组成$\\color{#EE7600}{某个金额}$，求可以使用的最少钞票数量。如果$\\color{#EE7600}{任意数量}$的已知面值钞票都$\\color{#EE7600}{无法}$组成该金额，则返回$\\color{#EE7600}{-1}$。\n",
    "如数组$[-2,1,-3,4,-1,2,1,-5,4]$\n",
    "\n",
    "$\\color{#EE7600}{例如:}$\n",
    "\n",
    "钞票面值：[1,2,5]；金额：11=5+5+1；需要3张。\n",
    "\n",
    "钞票面值：[2]；金额：3；无法组成，返回-1。\n",
    "\n",
    "钞票面值：[1,2,5,710]；金额：14=7+7；需要2张。\n",
    "\n",
    "$\\color{#EE7600}{思考：贪心可否？}$\n",
    "\n",
    "1.钞票面值：[1,2,5]；金额：11=5+5+1；需要3张。\n",
    "- 贪心思想：每次$\\color{#EE7600}{优先使用大面值}$的金额，如：先选1张10块的，剩下4元；再选1张2元的，剩下2元；再选1张2元的，$\\color{#EE7600}{答案正确}$。\n",
    "\n",
    "2.钞票面值：[1,2,5,7,10]；金额：14=7+7；需要2张。\n",
    "- 贪心思想：先选1张10块的，剩下4元；再选1张2元的，剩下2元；再选1张2元的，$\\color{#EE7600}{答案错误}$。\n",
    "\n",
    "贪心思想在$\\color{#EE7600}{个别面值组合}$时是可以的，比如日常生活中的RMB面值[1,2,5,10,20,50,100]，但是本题面值不确定，故贪心思想不可以。\n",
    "\n",
    "如果使用$\\color{#EE7600}{动态规划}$求解该问题，如何设计$\\color{#EE7600}{解决方案}$？\n",
    "\n",
    "$\\color{#EE7600}{思路:}$\n",
    "\n",
    "$\\color{#EE7600}{钞票面值}$：coins=[1,2,5,7,10]；$\\color{#EE7600}{金额}$：14\n",
    "\n",
    "dp[i]，代表金额i的$\\color{#EE7600}{最优解}$（即最小使用张数）\n",
    "数组dp[]中存储$\\color{#EE7600}{金额1至金额14}$的最优解（最少使用钞票的数量）。\n",
    "\n",
    "在计算dp[i]时，dp[0],dp[1],dp[2],...,dp[i-1]都是$\\color{#EE7600}{已知}$的：\n",
    "\n",
    "$\\color{#EE7600}{金额}$由：\n",
    "- 金额i-1与$coins[0](1)$组合；\n",
    "- 金额i-2与$coins[1](2)$组合；\n",
    "- 金额i-5与$coins[2](5)$组合；\n",
    "- 金额i-7与$coins[3](7)$组合；\n",
    "- 金额i-10与$coins[4](10)$组合；\n",
    "\n",
    "即$\\color{#EE7600}{状态i}$可由状态i-1,i-2,i-5,i-7,i-10，5个$\\color{#EE7600}{状态所转移到}$，故，dp[i]=min(dp[i-1],dp[i-2],dp[i-5],dp[i-7],dp[i-10])+1\n",
    "\n",
    "<img width=90% height=90% src=\"imgs/007.png\" alt=\"imgs/007.png\" title=\"图1\" />\n",
    "\n",
    "$\\color{#EE7600}{}$"
   ]
  },
  {
   "cell_type": "code",
   "execution_count": 5,
   "metadata": {},
   "outputs": [
    {
     "name": "stdout",
     "output_type": "stream",
     "text": [
      "6\n",
      "8\n"
     ]
    }
   ],
   "source": [
    "# method\n",
    "def dpSolution(nums):\n",
    "    length = len(nums)\n",
    "    dp = [0 for _ in range(length)]\n",
    "\n",
    "    dp[0] = nums[0]\n",
    "    max_res = dp[0]\n",
    "    \n",
    "    for i in range(1, length):\n",
    "        dp[i] = max(dp[i-1] + nums[i], nums[i])\n",
    "        if max_res < dp[i]:\n",
    "            max_res = dp[i]\n",
    "\n",
    "    return max_res\n",
    "\n",
    "# test\n",
    "lis = [-2,1,-3,4,-1,2,1,-5,4]\n",
    "lis2 = [8,-1,-1,-1]\n",
    "print(dpSolution(lis))\n",
    "print(dpSolution(lis2))"
   ]
  },
  {
   "cell_type": "code",
   "execution_count": null,
   "metadata": {},
   "outputs": [],
   "source": []
  }
 ],
 "metadata": {
  "kernelspec": {
   "display_name": "Python 3",
   "language": "python",
   "name": "python3"
  },
  "language_info": {
   "codemirror_mode": {
    "name": "ipython",
    "version": 3
   },
   "file_extension": ".py",
   "mimetype": "text/x-python",
   "name": "python",
   "nbconvert_exporter": "python",
   "pygments_lexer": "ipython3",
   "version": "3.6.8"
  }
 },
 "nbformat": 4,
 "nbformat_minor": 2
}
