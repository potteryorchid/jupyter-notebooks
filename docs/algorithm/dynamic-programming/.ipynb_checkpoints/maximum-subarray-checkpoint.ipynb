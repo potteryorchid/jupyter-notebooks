{
 "cells": [
  {
   "cell_type": "markdown",
   "metadata": {},
   "source": [
    "# 动态规划\n",
    "\n",
    "动态规划（dynamic programming）是$\\color{#EE7600}{运筹学}$的一个分支，是求解$\\color{#EE7600}{决策过程最优化}$的数学方法。它是20世纪50年代初美国数学家R.E.Bellman等人提出的$\\color{#EE7600}{最优化原理}$，它利用各阶段之间的关系，逐个求解，最终求得$\\color{#EE7600}{全局最优解}$。在设计动态规划算法时，需要确认原问题与子问题、动态规划状态、边界状态结值、状态转移方程等$\\color{#EE7600}{关键要素}$。"
   ]
  },
  {
   "cell_type": "markdown",
   "metadata": {},
   "source": [
    "### Maximum Subarray"
   ]
  },
  {
   "cell_type": "markdown",
   "metadata": {},
   "source": [
    "给定一个数组，求这个数组的$\\color{#EE7600}{连续子数组}$中，$\\color{#EE7600}{最大}$的那一段的和。\n",
    "如数组$[-2,1,-3,4,-1,2,1,-5,4]$\n",
    "\n",
    "$\\color{#EE7600}{}$\n",
    "$\\color{#EE7600}{连续子数组}如：$\n",
    "$[-2,1], [1,-3,4,-1], [4,-1,2,1] ,..., [-2,1,-3,4,-1,2,1,-5,4]$ 和最大的是$[4,-1,2,1]$为6.\n",
    "\n",
    "问题分析：\n",
    "\n",
    "若尝试$\\color{#EE7600}{动态规划}$方法，要确认$\\color{#EE7600}{动态规划状态}$，若假设第i个状态（dp[i]）代表$\\color{#EE7600}{以第i个数结尾}$的最大字段和，那么dp[i] 与 dp[i-1]之间的关系是什么？\n",
    "\n",
    "将求$\\color{#EE7600}{n个数}$的数组的最大字段和，转换为$\\color{#EE7600}{分别求出}$以第i个、第2个、...、第i个、...、第n个$\\color{#EE7600}{数字结尾}$的最大字段和，再找出这$\\color{#EE7600}{n个结果中最大的}$，即为结果。\n",
    "\n",
    "第i个状态（dp[i]）即为$\\color{#EE7600}{以第i个数字结尾}$的最大子段和（最优解）。由于以第i-1个数字结尾的最大子段和（dp[i-1]）与nums[i]$\\color{#EE7600}{相邻}$：\n",
    "\n",
    "<img width=90% height=90% src=\"imgs/007.png\" alt=\"imgs/007.png\" title=\"图1\" />"
   ]
  },
  {
   "cell_type": "code",
   "execution_count": 4,
   "metadata": {},
   "outputs": [
    {
     "name": "stdout",
     "output_type": "stream",
     "text": [
      "dp=1\n",
      "dp=-2\n",
      "dp=4\n",
      "dp=3\n",
      "dp=5\n",
      "dp=6\n",
      "dp=1\n",
      "dp=5\n",
      "6\n",
      "dp=7\n",
      "dp=6\n",
      "dp=5\n",
      "8\n"
     ]
    }
   ],
   "source": [
    "# method\n",
    "def dpSolution(nums):\n",
    "    length = len(nums)\n",
    "    dp = [0 for _ in range(length)]\n",
    "\n",
    "    dp[0] = nums[0]\n",
    "    max_res = dp[0]\n",
    "    \n",
    "    for i in range(1, length):\n",
    "        dp[i] = max(dp[i-1] + nums[i], nums[i])\n",
    "        if max_res < dp[i]:\n",
    "            max_res = dp[i]\n",
    "\n",
    "    return max_res\n",
    "\n",
    "# test\n",
    "lis = [-2,1,-3,4,-1,2,1,-5,4]\n",
    "lis2 = [8,-1,-1,-1]\n",
    "print(dpSolution(lis))\n",
    "print(dpSolution(lis2))"
   ]
  },
  {
   "cell_type": "code",
   "execution_count": null,
   "metadata": {},
   "outputs": [],
   "source": []
  }
 ],
 "metadata": {
  "kernelspec": {
   "display_name": "Python 3",
   "language": "python",
   "name": "python3"
  },
  "language_info": {
   "codemirror_mode": {
    "name": "ipython",
    "version": 3
   },
   "file_extension": ".py",
   "mimetype": "text/x-python",
   "name": "python",
   "nbconvert_exporter": "python",
   "pygments_lexer": "ipython3",
   "version": "3.6.5"
  }
 },
 "nbformat": 4,
 "nbformat_minor": 2
}
