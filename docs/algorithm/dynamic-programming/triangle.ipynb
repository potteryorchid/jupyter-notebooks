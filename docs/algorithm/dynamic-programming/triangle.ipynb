{
 "cells": [
  {
   "cell_type": "markdown",
   "metadata": {},
   "source": [
    "# 动态规划\n",
    "\n",
    "动态规划（dynamic programming）是$\\color{#EE7600}{运筹学}$的一个分支，是求解$\\color{#EE7600}{决策过程最优化}$的数学方法。它是20世纪50年代初美国数学家R.E.Bellman等人提出的$\\color{#EE7600}{最优化原理}$，它利用各阶段之间的关系，逐个求解，最终求得$\\color{#EE7600}{全局最优解}$。在设计动态规划算法时，需要确认原问题与子问题、动态规划状态、边界状态结值、状态转移方程等$\\color{#EE7600}{关键要素}$。"
   ]
  },
  {
   "cell_type": "markdown",
   "metadata": {},
   "source": [
    "### Change Issue"
   ]
  },
  {
   "cell_type": "markdown",
   "metadata": {},
   "source": [
    "<img width=90% height=90% src=\"imgs/010.png\" alt=\"imgs/010.png\" title=\"图1\" />"
   ]
  },
  {
   "cell_type": "code",
   "execution_count": null,
   "metadata": {},
   "outputs": [],
   "source": []
  }
 ],
 "metadata": {
  "kernelspec": {
   "display_name": "Python 3",
   "language": "python",
   "name": "python3"
  },
  "language_info": {
   "codemirror_mode": {
    "name": "ipython",
    "version": 3
   },
   "file_extension": ".py",
   "mimetype": "text/x-python",
   "name": "python",
   "nbconvert_exporter": "python",
   "pygments_lexer": "ipython3",
   "version": "3.6.5"
  }
 },
 "nbformat": 4,
 "nbformat_minor": 2
}
