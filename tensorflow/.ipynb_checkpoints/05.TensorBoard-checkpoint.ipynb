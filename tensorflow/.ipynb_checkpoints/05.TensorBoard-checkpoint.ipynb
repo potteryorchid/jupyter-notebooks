{
 "cells": [
  {
   "cell_type": "markdown",
   "metadata": {},
   "source": [
    "# TensorBoard 可视化工具\n",
    "\n",
    "在数据处理过程中，用户通常想要可以直观查看$\\color{#ea4339}{数据集}$的分布情况。\n",
    "\n",
    "在模型设计过程中，用户需要分析和检查$\\color{#ea4339}{数据流图}$是否正确实现。\n",
    "\n",
    "在模型训练过程中，用户也需要关注$\\color{#ea4339}{模型参数}$和$\\color{#ea4339}{超参数}$变化趋势。\n",
    "\n",
    "在模型测试过程中，用户也要查看$\\color{#ea4339}{准确率}$和$\\color{#ea4339}{召回率}$等评估指标。\n",
    "\n",
    "因此，$TensorFlow$项目组开发了机器学习可视化工具$\\color{#ea4339}{TensorBoard}$,它通过展示直观的图形，能够有效地辅助机器学习程序的开发者和使用者理解算法模型及其工作流程，提升模型开发工作效率。\n",
    "\n",
    "### TensorBoard 可视化训练\n",
    "\n",
    "<img width=80% height=80% src=\"imgs/05/01.png\" alt=\"imgs/05/01.png\" title=\"图1\" />\n",
    "\n",
    "### TensorBoard 可视化统计数据\n",
    "\n",
    "<img width=80% height=80% src=\"imgs/05/02.png\" alt=\"imgs/05/02.png\" title=\"图2\" />\n",
    "\n",
    "### TensorBoard 可视化数据分布\n",
    "\n",
    "<img width=80% height=80% src=\"imgs/05/03.png\" alt=\"imgs/05/03.png\" title=\"图3\" />\n",
    "\n",
    "### TensorBoard 可视化数据集（MNIST）\n",
    "\n",
    "<img width=80% height=80% src=\"imgs/05/04.png\" alt=\"imgs/05/04.png\" title=\"图4\" />\n",
    "\n",
    "### TensorBoard 可视化数据流图\n",
    "\n",
    "<img width=80% height=80% src=\"imgs/05/05.png\" alt=\"imgs/05/05.png\" title=\"图5\" />\n",
    "\n",
    "### TensorBoard 使用流程\n",
    "\n",
    "可视化的数据是数据流图和张量，它们需要在会话中加载或执行操作后才能获取。然后，用户需要使用$\\color{#ea4339}{FileWriter}$实例将这些数据写入事件文件。最后，启动$TensorBoard$程序，加载事件文件中的序列化数据，从而可以在各个面板中展示对应的可视化对象。\n",
    "\n",
    "<img width=80% height=80% src=\"imgs/05/06.png\" alt=\"imgs/05/06.png\" title=\"图6\" />\n",
    "\n",
    "### tf.summary 模块介绍\n",
    "\n",
    "前述流程中使用的FileWriter实例和汇总操作(Summary Ops)均属于tf.summary模块。其主要功能是获取和输出模型相关的序列化数据，它贯通TensorBoard的整个使用流程。\n",
    "\n",
    "tf.summary模块的核心部分由一组汇总操作以及FileWriter、Summary和Event 3个类组成。\n",
    "\n",
    "<img width=80% height=80% src=\"imgs/05/07.png\" alt=\"imgs/05/07.png\" title=\"图7\" />"
   ]
  },
  {
   "cell_type": "code",
   "execution_count": null,
   "metadata": {},
   "outputs": [],
   "source": []
  },
  {
   "cell_type": "code",
   "execution_count": null,
   "metadata": {},
   "outputs": [],
   "source": []
  }
 ],
 "metadata": {
  "kernelspec": {
   "display_name": "py3",
   "language": "python",
   "name": "py3"
  },
  "language_info": {
   "codemirror_mode": {
    "name": "ipython",
    "version": 3
   },
   "file_extension": ".py",
   "mimetype": "text/x-python",
   "name": "python",
   "nbconvert_exporter": "python",
   "pygments_lexer": "ipython3",
   "version": "3.6.5"
  }
 },
 "nbformat": 4,
 "nbformat_minor": 2
}
