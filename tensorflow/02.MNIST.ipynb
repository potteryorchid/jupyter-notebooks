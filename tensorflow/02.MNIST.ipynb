{
 "cells": [
  {
   "cell_type": "markdown",
   "metadata": {},
   "source": [
    "# MNIST Dataset Overview\n",
    "\n",
    "[1]:http://yann.lecun.com/exdb/mnist/\n",
    "\n",
    "MNIST图像数据集使用形如$[28, 28]$的二阶数组来表示每张图像，数组中的每个元素对应一个像素点，该数据集中的图像都是256阶灰度图，像素值0表示白色（背景），256表示黑色（前景）。由于每张图像的尺寸都是28×28像素，为了方便连续存储，我们可以将形如$[28, 28]$的二阶数组“摊平”成形如$[784]$的一阶数组。数组中的784个元素共同组成了一个784维的向量。\n",
    "\n",
    "<img width=80% height=80% src=\"imgs/02/01.jpeg\" alt=\"imgs/02/01.jpeg\" title=\"图1\" />\n",
    "\n",
    "More info: [http://yann.lecun.com/exdb/mnist/][1]"
   ]
  },
  {
   "cell_type": "code",
   "execution_count": 4,
   "metadata": {},
   "outputs": [
    {
     "name": "stdout",
     "output_type": "stream",
     "text": [
      "Extracting datas/mnist\\train-images-idx3-ubyte.gz\n",
      "Extracting datas/mnist\\train-labels-idx1-ubyte.gz\n",
      "Extracting datas/mnist\\t10k-images-idx3-ubyte.gz\n",
      "Extracting datas/mnist\\t10k-labels-idx1-ubyte.gz\n"
     ]
    }
   ],
   "source": [
    "from __future__ import print_function\n",
    "\n",
    "# import dataset\n",
    "from tensorflow.examples.tutorials.mnist import input_data\n",
    "mnist = input_data.read_data_sets('datas/mnist', one_hot=True)\n",
    "\n",
    "import tensorflow as tf"
   ]
  },
  {
   "cell_type": "code",
   "execution_count": 3,
   "metadata": {},
   "outputs": [],
   "source": [
    "# super params\n",
    "learning_rate = 0.1\n",
    "num_steps = 500\n",
    "batch_size = 128\n",
    "display_step = 100\n",
    "\n",
    "# neural network params\n",
    "n_hidden_1 = 256 # first level nodes nums\n",
    "n_hidden_2 = 256 # sencond level nodes nums\n",
    "num_input = 784 # mnist datasize (28*28)\n",
    "num_classes = 10 # mnist classify nums (0-9)\n",
    "\n",
    "# input train datas\n",
    "X = tf.placeholder(\"float\", [None, num_input])\n",
    "Y = tf.placeholder(\"float\", [None, num_classes])"
   ]
  },
  {
   "cell_type": "code",
   "execution_count": 4,
   "metadata": {},
   "outputs": [],
   "source": [
    "# weights & biases\n",
    "weights = {\n",
    "    'h1': tf.Variable(tf.random_normal([num_input, n_hidden_1])),\n",
    "    'h2': tf.Variable(tf.random_normal([n_hidden_1, n_hidden_2])),\n",
    "    'out': tf.Variable(tf.random_normal([n_hidden_2, num_classes]))\n",
    "}\n",
    "\n",
    "biases = {\n",
    "    'b1': tf.Variable(tf.random_normal([n_hidden_1])),\n",
    "    'b2': tf.Variable(tf.random_normal([n_hidden_2])),\n",
    "    'out': tf.Variable(tf.random_normal([num_classes]))\n",
    "}"
   ]
  },
  {
   "cell_type": "code",
   "execution_count": 5,
   "metadata": {},
   "outputs": [],
   "source": [
    "# neural network\n",
    "def neural_next(x):\n",
    "    layer_1 = tf.add(tf.matmul(x, weights['h1']), biases['b1'])\n",
    "    \n",
    "    layer_2 = tf.add(tf.matmul(layer_1, weights['h2']), biases['b2'])\n",
    "    \n",
    "    out_layer = tf.matmul(layer_2, weights['out']) + biases['out']\n",
    "    \n",
    "    return out_layer"
   ]
  },
  {
   "cell_type": "code",
   "execution_count": 6,
   "metadata": {},
   "outputs": [
    {
     "name": "stdout",
     "output_type": "stream",
     "text": [
      "WARNING:tensorflow:From <ipython-input-6-93f279f5683d>:5: softmax_cross_entropy_with_logits (from tensorflow.python.ops.nn_ops) is deprecated and will be removed in a future version.\n",
      "Instructions for updating:\n",
      "\n",
      "Future major versions of TensorFlow will allow gradients to flow\n",
      "into the labels input on backprop by default.\n",
      "\n",
      "See `tf.nn.softmax_cross_entropy_with_logits_v2`.\n",
      "\n",
      "WARNING:tensorflow:From <ipython-input-6-93f279f5683d>:10: arg_max (from tensorflow.python.ops.gen_math_ops) is deprecated and will be removed in a future version.\n",
      "Instructions for updating:\n",
      "Use `argmax` instead\n"
     ]
    }
   ],
   "source": [
    "# definded models\n",
    "logits = neural_next(X)\n",
    "\n",
    "# definded lossfunction & optimizer\n",
    "loss_func = tf.reduce_mean(tf.nn.softmax_cross_entropy_with_logits(logits=logits, labels=Y))\n",
    "optimizer = tf.train.AdamOptimizer(learning_rate=learning_rate)\n",
    "train_op = optimizer.minimize(loss_func)\n",
    "\n",
    "# definded accuracy\n",
    "correct_pred = tf.equal(tf.arg_max(logits, 1), tf.arg_max(Y, 1))\n",
    "accuracy = tf.reduce_mean(tf.cast(correct_pred, tf.float32))\n",
    "\n",
    "# init params\n",
    "init = tf.global_variables_initializer()"
   ]
  },
  {
   "cell_type": "code",
   "execution_count": 10,
   "metadata": {},
   "outputs": [
    {
     "name": "stdout",
     "output_type": "stream",
     "text": [
      "Step1 >>> Minibatch_Loss=7484.1797   Training_Accuracy=0.477\n",
      "Step100 >>> Minibatch_Loss=296.4350   Training_Accuracy=0.820\n",
      "Step200 >>> Minibatch_Loss=166.7542   Training_Accuracy=0.812\n",
      "Step300 >>> Minibatch_Loss=36.3193   Training_Accuracy=0.914\n",
      "Step400 >>> Minibatch_Loss=54.9062   Training_Accuracy=0.906\n",
      "Step500 >>> Minibatch_Loss=34.8032   Training_Accuracy=0.867\n",
      "Optimization Finished!\n",
      "Testing Accuracy: 0.852\n"
     ]
    }
   ],
   "source": [
    "# start training\n",
    "with tf.Session() as sess:\n",
    "    # running initializer\n",
    "    sess.run(init)\n",
    "    \n",
    "    for step in range(1, num_steps+1):\n",
    "        batch_x, batch_y = mnist.train.next_batch(batch_size)\n",
    "        # training\n",
    "        sess.run(train_op, feed_dict={X: batch_x, Y: batch_y})\n",
    "        if step % display_step == 0 or step ==1:\n",
    "            loss, acc = sess.run([loss_func, accuracy], feed_dict={X: batch_x, Y: batch_y})\n",
    "            \n",
    "            print(\"Step\" + str(step) + \\\n",
    "                  \" >>> Minibatch_Loss=\" + \"{:.4f}\".format(loss) + \\\n",
    "                  \"   Training_Accuracy=\" + \"{:.3f}\".format(acc))\n",
    "            \n",
    "    print(\"Optimization Finished!\")\n",
    "            \n",
    "    # calculate accuracy\n",
    "    print(\"Testing Accuracy:\", sess.run(accuracy, feed_dict={X: mnist.test.images,\n",
    "                                                                     Y: mnist.test.labels}))"
   ]
  },
  {
   "cell_type": "code",
   "execution_count": null,
   "metadata": {},
   "outputs": [],
   "source": []
  }
 ],
 "metadata": {
  "kernelspec": {
   "display_name": "Python 3",
   "language": "python",
   "name": "python3"
  },
  "language_info": {
   "codemirror_mode": {
    "name": "ipython",
    "version": 3
   },
   "file_extension": ".py",
   "mimetype": "text/x-python",
   "name": "python",
   "nbconvert_exporter": "python",
   "pygments_lexer": "ipython3",
   "version": "3.6.5"
  }
 },
 "nbformat": 4,
 "nbformat_minor": 2
}
