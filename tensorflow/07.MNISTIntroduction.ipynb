{
 "cells": [
  {
   "cell_type": "markdown",
   "metadata": {},
   "source": [
    "# MNIST Dataset Introduction\n",
    "\n",
    "[1]:http://yann.lecun.com/exdb/mnist/\n",
    "\n",
    "[MNIST][1]是一套手写体数字的图像数据集合，包含60000个训练样例和10000个测试样例，由纽约大学的Yann LeCun等人维护。\n",
    "\n",
    "<img width=80% height=80% src=\"imgs/02/01.jpeg\" alt=\"imgs/02/01.jpeg\" title=\"图1\" />\n",
    "\n",
    "### Introduction to Handwritten MNIST Array\n",
    "\n",
    "MNIST图像数据集使用形如 [28, 28] 的二阶数组表示每个手写体数字，数组中的每个元素对应一个像素点，即每张图像大小固定为 28*28 像素。\n",
    "\n",
    "<img width=80% height=80% src=\"imgs/07/01.png\" alt=\"imgs/07/01.png\" title=\"图2\" />\n",
    "\n",
    "MNIST数据集中的图像都是256阶灰度图，即灰度值0表示白色（背景），255表示黑色（前景），使用取值为[0,255]的uint8数据类型表示图像。为了加速训练，我们需要做数据规范化，将灰度值缩放为[0,1]的float32数据类型。\n",
    "\n",
    "<img width=80% height=80% src=\"imgs/07/02.png\" alt=\"imgs/07/02.png\" title=\"图3\" />\n",
    "\n",
    "由于每张图像的尺寸都是28*28像素，为了方便连续存储，我们可以将形如[28,28]的二阶数组“摊平”成形如[784, ]的一阶数组，可以表示 $256*256*...*256=256^{784}$张不同的图像。\n",
    "\n",
    "但这些图像并非每一张都代表有效的手写体数字，其中绝大部分都是如下的噪声图：\n",
    "\n",
    "<img width=80% height=80% src=\"imgs/07/03.png\" alt=\"imgs/07/03.png\" title=\"图4\" />\n",
    "\n",
    "### Download MNIST Data Set\n",
    "\n",
    "一个曾广泛使用（如 chapter-2/basic-model.ipynb），如今被废弃的（deprecated）方法:"
   ]
  },
  {
   "cell_type": "code",
   "execution_count": 2,
   "metadata": {},
   "outputs": [
    {
     "name": "stdout",
     "output_type": "stream",
     "text": [
      "WARNING:tensorflow:From <ipython-input-2-a3a76fbe88c7>:5: read_data_sets (from tensorflow.contrib.learn.python.learn.datasets.mnist) is deprecated and will be removed in a future version.\n",
      "Instructions for updating:\n",
      "Please use alternatives such as official/mnist/dataset.py from tensorflow/models.\n",
      "WARNING:tensorflow:From d:\\env\\py3\\lib\\site-packages\\tensorflow\\contrib\\learn\\python\\learn\\datasets\\mnist.py:260: maybe_download (from tensorflow.contrib.learn.python.learn.datasets.base) is deprecated and will be removed in a future version.\n",
      "Instructions for updating:\n",
      "Please write your own downloading logic.\n",
      "WARNING:tensorflow:From d:\\env\\py3\\lib\\site-packages\\tensorflow\\contrib\\learn\\python\\learn\\datasets\\mnist.py:262: extract_images (from tensorflow.contrib.learn.python.learn.datasets.mnist) is deprecated and will be removed in a future version.\n",
      "Instructions for updating:\n",
      "Please use tf.data to implement this functionality.\n",
      "Extracting datas/mnist\\train-images-idx3-ubyte.gz\n",
      "WARNING:tensorflow:From d:\\env\\py3\\lib\\site-packages\\tensorflow\\contrib\\learn\\python\\learn\\datasets\\mnist.py:267: extract_labels (from tensorflow.contrib.learn.python.learn.datasets.mnist) is deprecated and will be removed in a future version.\n",
      "Instructions for updating:\n",
      "Please use tf.data to implement this functionality.\n",
      "Extracting datas/mnist\\train-labels-idx1-ubyte.gz\n",
      "Extracting datas/mnist\\t10k-images-idx3-ubyte.gz\n",
      "Extracting datas/mnist\\t10k-labels-idx1-ubyte.gz\n",
      "WARNING:tensorflow:From d:\\env\\py3\\lib\\site-packages\\tensorflow\\contrib\\learn\\python\\learn\\datasets\\mnist.py:290: DataSet.__init__ (from tensorflow.contrib.learn.python.learn.datasets.mnist) is deprecated and will be removed in a future version.\n",
      "Instructions for updating:\n",
      "Please use alternatives such as official/mnist/dataset.py from tensorflow/models.\n"
     ]
    }
   ],
   "source": [
    "import tensorflow as tf\n",
    "\n",
    "from tensorflow.examples.tutorials.mnist import input_data\n",
    "\n",
    "mnist = input_data.read_data_sets('datas/mnist')"
   ]
  },
  {
   "cell_type": "code",
   "execution_count": 4,
   "metadata": {},
   "outputs": [
    {
     "name": "stdout",
     "output_type": "stream",
     "text": [
      "Extracting datas/mnist\\train-images-idx3-ubyte.gz\n",
      "Extracting datas/mnist\\train-labels-idx1-ubyte.gz\n",
      "Extracting datas/mnist\\t10k-images-idx3-ubyte.gz\n",
      "Extracting datas/mnist\\t10k-labels-idx1-ubyte.gz\n"
     ]
    }
   ],
   "source": [
    "from __future__ import print_function\n",
    "\n",
    "# import dataset\n",
    "from tensorflow.examples.tutorials.mnist import input_data\n",
    "mnist = input_data.read_data_sets('datas/mnist', one_hot=True)\n",
    "\n",
    "import tensorflow as tf"
   ]
  },
  {
   "cell_type": "markdown",
   "metadata": {},
   "source": [
    "### Download MNIST Data Set by Keras\n",
    "\n",
    "tf.kera.datasets.mnist.load_data(path='mnnist.npz')\n",
    "\n",
    "Arguments:\n",
    "\n",
    "- path:本地缓存MNIST数据集(mnist.npz)的相对路径(~/.keras/datasets)\n",
    "\n",
    "Returns:\n",
    "\n",
    "- Tuple of Numpy arrays:`(x_train, y_train), (x_test, y_test)`\n"
   ]
  },
  {
   "cell_type": "code",
   "execution_count": 4,
   "metadata": {},
   "outputs": [
    {
     "name": "stdout",
     "output_type": "stream",
     "text": [
      "Downloading data from https://storage.googleapis.com/tensorflow/tf-keras-datasets/mnist.npz\n",
      "11493376/11490434 [==============================] - 3s 0us/step\n"
     ]
    }
   ],
   "source": [
    "from tensorflow.keras.datasets import mnist\n",
    "\n",
    "# 只能是相对路径，放在(~/.keras/datasets)目录下\n",
    "(x_train, y_train), (x_test, y_test) = mnist.load_data('mnist.npz')"
   ]
  },
  {
   "cell_type": "code",
   "execution_count": 5,
   "metadata": {},
   "outputs": [
    {
     "name": "stdout",
     "output_type": "stream",
     "text": [
      "(60000, 28, 28) (60000,)\n",
      "(10000, 28, 28) (10000,)\n"
     ]
    }
   ],
   "source": [
    "print(x_train.shape, y_train.shape)\n",
    "print(x_test.shape, y_test.shape)"
   ]
  },
  {
   "cell_type": "markdown",
   "metadata": {},
   "source": [
    "### MNIST DataSet Visualization"
   ]
  },
  {
   "cell_type": "code",
   "execution_count": 8,
   "metadata": {},
   "outputs": [
    {
     "data": {
      "image/png": "[encoded data removed]",
      "text/plain": [
       "<Figure size 432x288 with 15 Axes>"
      ]
     },
     "metadata": {},
     "output_type": "display_data"
    }
   ],
   "source": [
    "import matplotlib.pyplot as plt\n",
    "\n",
    "fig = plt.figure()\n",
    "for i in range(15):\n",
    "    plt.subplot(3, 5, i+1) # 绘制前15个手写体数字，3行5列展示\n",
    "    plt.tight_layout() # 自动适配子图尺寸\n",
    "    plt.imshow(x_train[i], cmap='Greys') # 使用灰色显示像素灰度值\n",
    "    plt.title(\"Label: {}\".format(y_train[i])) # 设置标签为子图标题\n",
    "    plt.xticks([]) # 删除x轴标记\n",
    "    plt.yticks([]) # 删除y轴标记"
   ]
  },
  {
   "cell_type": "markdown",
   "metadata": {},
   "source": [
    "### 感知机模型\n",
    "\n",
    "1957年，受 Warren McCulloch 和 Walter Pitts 在神经元建模方面工作的启发，心理学家 Frank Rosenblatt 参考大脑中神经元信息传递信号的工作机制，发明了神经感知机模型 Perceptron。\n",
    "\n",
    "<img width=80% height=80% src=\"imgs/07/04.png\" alt=\"imgs/07/04.png\" title=\"图5\" />\n",
    "\n",
    "### 神经网络\n",
    "\n",
    "在机器学习和认知科学领域，人工神经网络（ANN），简称神经网络（NN）是一种模仿生物神经网络（动物的中枢神经系统，特别是大脑）的结构和功能的数学模型或计算模型，用于对函数进行估计或近似。神经网络是**多层神经元的连接**，上一层神经元的输出，作为下一层神经元的输入。\n",
    "\n",
    "<img width=80% height=80% src=\"imgs/07/05.png\" alt=\"imgs/07/05.png\" title=\"图6\" />\n",
    "\n",
    "### 线性不可分\n",
    "\n",
    "<img width=80% height=80% src=\"imgs/07/06.png\" alt=\"imgs/07/06.png\" title=\"图7\" />\n",
    "\n",
    "### 激活函数（Activation Function）\n",
    "\n",
    "为了实现神经网络的非线性建模能力，解决一些线性不可分的问题，我们通常使用激活函数来引入分线性因素。激活函数都采用非线性函数，常用的有Sigmoid、tanh、ReLU等。\n",
    "\n",
    "<img width=80% height=80% src=\"imgs/07/07.png\" alt=\"imgs/07/07.png\" title=\"图8\" />\n",
    "\n",
    "### 全连接层（fully connected layers，FC）\n",
    "\n",
    "全连接层是一种对输入数据直接做线性变换的线性计算层。它是神经网络中最常用的一层，用于学习输出数据和输入数据之间的变换关系。全连接层可以作为特征提取层使用，在学习特征的同时实现特征融合；也可作为最终的分类层使用，其输出神经元的值代表了每个输出类别的概率。\n",
    "\n",
    "<img width=80% height=80% src=\"imgs/07/08.png\" alt=\"imgs/07/08.png\" title=\"图9\" />\n",
    "\n",
    "### 前向传播\n",
    "\n",
    "符号定义：\n",
    "\n",
    "- $L$为网络层数，$w$和$b$为模型参数，$X$为输入数据\n",
    "- $x_i$:第$1$层第$i$个神经元的输入\n",
    "- ${a_i}^{(l)}$:第$l$层第$i$个神经元的输出（当$l=1$时，${a_i^{(1)}}=x_i$）\n",
    "- $w_{ij}^{(l)}$:第$l$层第$j$个神经元到第$l+1$层第$i$个神经元的权重\n",
    "- $b_i^{(l)}$：第$l$层第$i$个神经元的偏置\n",
    "- $h_{w,b}(X)$:神经元网络（假设函数）输出数据\n",
    "- $( \\overrightarrow{W},\\overrightarrow{B})=(w^{(l)},b^{(l)}),l=1,...,L$\n",
    "\n",
    "<img width=70% height=70% src=\"imgs/07/09.png\" alt=\"imgs/07/09.png\" title=\"图10\" />\n",
    "\n",
    "3层神经网络 计算过程：\n",
    "\n",
    "- $a_1^{(2)}=f(w_{11}^{(1)}x_1+w_{12}^{(1)}x_2+w_{13}^{(1)}x_3+b_1^{(1)})$\n",
    "- $a_2^{(2)}=f(w_{21}^{(1)}x_1+w_{22}^{(1)}x_2+w_{23}^{(1)}x_3+b_2^{(1)})$\n",
    "- $a_3^{(2)}=f(w_{31}^{(1)}x_1+w_{32}^{(1)}x_2+w_{33}^{(1)}x_3+b_3^{(1)})$\n",
    "- $h_{w,b}(X)=a_3^{(3)}=f(w_{11}^{(2)}a_1^{(2)}+w_{12}^{(2)}a_2^{(2)}+w_{13}^{(2)}a_3^{(2)}+b_1^{(2)})$\n",
    "\n",
    "简化形式：\n",
    "\n",
    "$$z_i^{(l)}=\\sum_{j=1}^{n}{w^{(l-1)}a^{(l-1)}+b^{(l-1)}}$$\n",
    "\n",
    "$$a_i^{(l)}=f(z_i^{(l)}), i=1,...,n$$\n",
    "\n",
    "$$h_{w,b}(X)=a_3^{(3)}=f(z_3^{(3)})$$\n",
    "\n",
    "### 后向传播（Back Propagation, BP）\n",
    "\n",
    "BP算法的基本思想是通过损失函数$\\color{#ea4339}{对模型参数进行求导}$,并根据复合函数求导常用的“$\\color{#ea4339}{链式法则}$”将不同层的模型参数的梯度联系起来，使得计算所有模型参数的梯度更简单。BP算法的思想早在1960年就被提出来了。直到1986年，David Rumelhart和Geoffrey Hinton等人发表了一篇后来成为经典的论文，清晰的描述了BP算法的框架，才使得BP算法真正流行起来，并带来了神经网络在80年代的辉煌。\n",
    "\n",
    "### MNIST Softmax 网络\n",
    "\n",
    "将表示手写体数字的形如[784]的一维向量作为输入；中间定义2层512个神经元的隐藏层，具备一定模型复杂度，足以识别手写体数字；最后定义1层10个神经元的全联接层，用于输出10个不同类别的“概率”。\n",
    "\n",
    "<img width=80% height=80% src=\"imgs/07/10.png\" alt=\"imgs/07/10.png\" title=\"图11\" />\n",
    "\n",
    "<img width=80% height=80% src=\"imgs/07/11.png\" alt=\"imgs/07/11.png\" title=\"图12\" />"
   ]
  },
  {
   "cell_type": "code",
   "execution_count": null,
   "metadata": {},
   "outputs": [],
   "source": []
  }
 ],
 "metadata": {
  "kernelspec": {
   "display_name": "Python 3",
   "language": "python",
   "name": "python3"
  },
  "language_info": {
   "codemirror_mode": {
    "name": "ipython",
    "version": 3
   },
   "file_extension": ".py",
   "mimetype": "text/x-python",
   "name": "python",
   "nbconvert_exporter": "python",
   "pygments_lexer": "ipython3",
   "version": "3.6.5"
  }
 },
 "nbformat": 4,
 "nbformat_minor": 2
}
