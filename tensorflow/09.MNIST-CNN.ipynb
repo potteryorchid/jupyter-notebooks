{
 "cells": [
  {
   "cell_type": "markdown",
   "metadata": {},
   "source": [
    "# MNIST CNN\n",
    "\n",
    "### CNN简介\n",
    "\n",
    "CNN模型是一种以卷积为核心的前馈神经网络模型。20世纪60年代，Hubel和Wiesel在研究猫脑皮层中用于局部敏感和方向选择的神经元时发现其独特的网络结构可以有效地降低反馈神经网络的复杂性，继而提出了卷积神经网络（ConvoluTlonal Neural Networks, 简称CNN）。\n",
    "\n",
    "<img width=80% height=80% src=\"imgs/09/01.png\" alt=\"imgs/09/01.png\" title=\"图1\" />\n",
    "\n",
    "### 卷积（Convolution）\n",
    "\n",
    "卷积是分析数学中的一种基础运算，其中对输入数据做运算时所用到的函数称为卷积核。设：$f(x), g(x)$是$R$上的两个可积函数，做积分：\n",
    "\n",
    "$$\\int_{-\\infty}^{\\infty} f(\\tau)g(x-\\tau){\\rm d}\\tau $$\n",
    "\n",
    "可以证明，关于几乎所有的实数$x$，上述积分是存在的。这样，随着$x$的不同取值，这个积分就定义了一个如下的新函数，称为函数$f$与$g$的卷积。\n",
    "\n",
    "$$(f*g)(t) \\stackrel{def}= \\int_{\\mathbb{R^n}} f(\\tau)g(t-\\tau){\\rm d}\\tau $$\n",
    "\n",
    "<img width=80% height=80% src=\"imgs/09/02.gif\" alt=\"imgs/09/02.gif\" title=\"图2\" />\n",
    "\n",
    "### 卷积层（Convolutional Layer，conv）\n",
    "\n",
    "卷积层是使用一系列卷积核与多通道输入数据做卷积的线性计算层。卷积层的提出是为了利用输入数据（如图像）中特征的局域性和位置无关性来降低整个模型的参数量。卷积运算过程与图像处理算法中常用的空间滤波是类似的。因此，卷积常常被通俗地理解为一种“滤波”过程，卷积核与输入数据作用之后得到了“滤波”后的图像，从而提取出了图像的特征。\n",
    "\n",
    "<img width=80% height=80% src=\"imgs/09/03.gif\" alt=\"imgs/09/03.gif\" title=\"图3\" />\n",
    "<img width=80% height=80% src=\"imgs/09/04.gif\" alt=\"imgs/09/04.gif\" title=\"图4\" />\n"
   ]
  },
  {
   "cell_type": "code",
   "execution_count": null,
   "metadata": {},
   "outputs": [],
   "source": []
  }
 ],
 "metadata": {
  "kernelspec": {
   "display_name": "Python 3",
   "language": "python",
   "name": "python3"
  },
  "language_info": {
   "codemirror_mode": {
    "name": "ipython",
    "version": 3
   },
   "file_extension": ".py",
   "mimetype": "text/x-python",
   "name": "python",
   "nbconvert_exporter": "python",
   "pygments_lexer": "ipython3",
   "version": "3.6.5"
  }
 },
 "nbformat": 4,
 "nbformat_minor": 2
}
