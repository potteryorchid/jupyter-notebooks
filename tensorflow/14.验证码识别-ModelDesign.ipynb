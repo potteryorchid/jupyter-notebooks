{
 "cells": [
  {
   "cell_type": "markdown",
   "metadata": {},
   "source": [
    "### 图像分类模型 AlexNet\n",
    "\n",
    "\n",
    "<img width=70% height=70% src=\"imgs/14/01.png\" alt=\"imgs/14/01.png\" title=\"图1\" />\n",
    "\n",
    "### 使用卷积进行特征提取\n",
    "\n",
    "<img width=70% height=70% src=\"imgs/14/02.png\" alt=\"imgs/14/02.png\" title=\"图2\" />\n",
    "\n",
    "### 图像分类模型 VGG-16\n",
    "\n",
    "<img width=70% height=70% src=\"imgs/14/03.png\" alt=\"imgs/14/03.png\" title=\"图3\" />\n",
    "\n",
    "### 验证码识别模型结构\n",
    "\n",
    "<img width=70% height=70% src=\"imgs/14/04.png\" alt=\"imgs/14/04.png\" title=\"图4\" />\n",
    "\n",
    "### 验证码识别模型实现\n",
    "\n",
    "```\n",
    "# input layer\n",
    "inputs = Input(shape=input_shape, name=\"inputs\") \n",
    "\n",
    "# first layer\n",
    "conv1 = Conv2D(32, (3, 3), name=\"conv1\")(inputs)\n",
    "relu1 = Activation('relu', name=\"relu1\")(conv1)\n",
    "\n",
    "# second layer\n",
    "conv2 = Conv2D(32, (3, 3), name=\"conv2\")(relu1)\n",
    "relu2 = Activation('relu', name=\"relu2\")(conv2)\n",
    "pool2 = MaxPooling2D(pool_size=(2, 2), padding='same', name=\"pool2\")(relu2)\n",
    "\n",
    "# third layer\n",
    "conv3 = Conv2D(64, (3, 3), name=\"conv3\")(pool2)\n",
    "relu3 = Activation('relu', name=\"relu3\")(conv3)\n",
    "pool3 = MaxPooling2D(pool_size=(2, 2), padding='same', name=\"pool3\")(relu3)\n",
    "\n",
    "# 将 Pooled feature map 摊平后输入全连接网络\n",
    "x = Flatten()(pool3)\n",
    "\n",
    "# Dropout\n",
    "x = Dropout(0.25)(x)\n",
    "\n",
    "# 4个全连接层分别做10分类，分别对应4个字符\n",
    "x = [Dense(10, activation='softmax', name='fc%d'%(i+1))(x) for i in range(4)]\n",
    "\n",
    "# 4个字符向量拼接在一起，与标签向量形式一致，作为模型输出。\n",
    "outs = Concatenate()(x)\n",
    "\n",
    "# 定义模型的输入与输出\n",
    "model = Model(inputs=inputs, outputs=outs)\n",
    "model.compile(optimizer=OPT, loss=LOSS, metrics=['accuracy'])\n",
    "```"
   ]
  },
  {
   "cell_type": "code",
   "execution_count": null,
   "metadata": {},
   "outputs": [],
   "source": []
  }
 ],
 "metadata": {
  "kernelspec": {
   "display_name": "Python 3",
   "language": "python",
   "name": "python3"
  },
  "language_info": {
   "codemirror_mode": {
    "name": "ipython",
    "version": 3
   },
   "file_extension": ".py",
   "mimetype": "text/x-python",
   "name": "python",
   "nbconvert_exporter": "python",
   "pygments_lexer": "ipython3",
   "version": "3.6.5"
  }
 },
 "nbformat": 4,
 "nbformat_minor": 2
}
