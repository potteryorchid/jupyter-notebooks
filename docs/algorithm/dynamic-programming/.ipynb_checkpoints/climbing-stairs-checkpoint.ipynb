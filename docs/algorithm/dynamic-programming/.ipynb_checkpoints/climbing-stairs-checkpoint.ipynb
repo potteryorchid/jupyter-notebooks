{
 "cells": [
  {
   "cell_type": "markdown",
   "metadata": {},
   "source": [
    "# 动态规划\n",
    "\n",
    "动态规划（dynamic programming）是$\\color{#EE7600}{运筹学}$的一个分支，是求解$\\color{#EE7600}{决策过程最优化}$的数学方法。它是20世纪50年代初美国数学家R.E.Bellman等人提出的$\\color{#EE7600}{最优化原理}$，它利用各阶段之间的关系，逐个求解，最终求得$\\color{#EE7600}{全局最优解}$。在设计动态规划算法时，需要确认原问题与子问题、动态规划状态、边界状态结值、状态转移方程等$\\color{#EE7600}{关键要素}$。"
   ]
  },
  {
   "cell_type": "markdown",
   "metadata": {},
   "source": [
    "### Climbing Stairs（爬楼梯问题）"
   ]
  },
  {
   "cell_type": "markdown",
   "metadata": {},
   "source": [
    "爬楼梯时，每次可向上走1阶台阶 或 2阶台阶，问共n阶楼梯有多少种上楼的方式？\n",
    "\n",
    "#### 回溯解法\n",
    "\n",
    "问题分析：\n",
    "\n",
    "<img width=70% height=70% src=\"imgs/001.png\" alt=\"imgs/001.png\" title=\"图1\" />\n",
    "\n",
    "- 问题分为：第一次走1个台阶 和 第一次走2个台阶\n",
    "- 总的方式 = 走1阶台阶后的总上楼方式 + 走2台阶后的总上楼方式\n",
    "- 按上面思路递归求解"
   ]
  },
  {
   "cell_type": "code",
   "execution_count": 1,
   "metadata": {},
   "outputs": [
    {
     "name": "stdout",
     "output_type": "stream",
     "text": [
      "8\n"
     ]
    }
   ],
   "source": [
    "# 回溯解法\n",
    "def solution(n):\n",
    "    if(n == 1 or n ==2):\n",
    "        return n\n",
    "    return solution(n-1) + solution(n-2)\n",
    "\n",
    "print(solution(5))"
   ]
  },
  {
   "cell_type": "markdown",
   "metadata": {},
   "source": [
    "缺陷：每次回溯步骤都乘以 $2$，总代价趋近 $2^n$。"
   ]
  },
  {
   "cell_type": "markdown",
   "metadata": {},
   "source": [
    "#### 动态规划解法"
   ]
  },
  {
   "cell_type": "markdown",
   "metadata": {},
   "source": [
    "思考：到达$\\color{#EE7600}{第i阶}$楼梯有多少种爬法，与到达第几阶楼梯的爬法$\\color{#EE7600}{直接相关}$，如何$\\color{#EE7600}{递推}$出到达第i阶楼梯的爬法数量？\n",
    "\n",
    "由于每次$\\color{#EE7600}{最多}$爬两阶楼梯，要到达$\\color{#EE7600}{第i阶}$楼梯，只能从第i-1阶楼梯爬1阶与从第i-2阶楼梯爬2阶$\\color{#EE7600}{到达}$。所以到达$\\color{#EE7600}{第i阶}$楼梯有多少种爬法，只与到达$\\color{#EE7600}{第i-1阶}$、$\\color{#EE7600}{第i-2阶}$楼梯的爬法数量直接相关。\n",
    "\n",
    "<img width=70% height=70% src=\"imgs/002.png\" alt=\"imgs/002.png\" title=\"图2\" />\n",
    "\n",
    "- 设置$\\color{#EE7600}{递推数组}$dp[0...n]，dp[i]代表到达第i阶楼梯有多少种爬法，$\\color{#EE7600}{初始化}$数组元素为0\n",
    "- 设置到达$\\color{#EE7600}{第1阶}$楼梯$\\color{#EE7600}{有1种}$爬法；到达$\\color{#EE7600}{第2阶}$楼梯$\\color{#EE7600}{有2种}$爬法。\n",
    "- 利用i循环递推从$\\color{#EE7600}{第3阶}$至$\\color{#EE7600}{第n阶}$：到达第i阶的爬法数量 = 到达$\\color{#EE7600}{第i-1阶}$的爬法数量 + 到达$\\color{#EE7600}{第i-2阶}$的爬法数量\n",
    "\n",
    "<img width=90% height=90% src=\"imgs/003.png\" alt=\"imgs/003.png\" title=\"图3\" />\n"
   ]
  },
  {
   "cell_type": "code",
   "execution_count": 3,
   "metadata": {},
   "outputs": [
    {
     "name": "stdout",
     "output_type": "stream",
     "text": [
      "610\n"
     ]
    }
   ],
   "source": [
    "# 动态规划解法\n",
    "def dpSolution(n):\n",
    "    dp = [0 for _ in range(n+3)]\n",
    "    dp[1] = 1\n",
    "    dp[2] = 2\n",
    "    for i in range(3, n+1):\n",
    "        dp[i] = dp[i-1] + dp[i-2]\n",
    "    return dp[n]\n",
    "    \n",
    "print(dpSolution(14))"
   ]
  },
  {
   "cell_type": "code",
   "execution_count": 2,
   "metadata": {},
   "outputs": [
    {
     "name": "stdout",
     "output_type": "stream",
     "text": [
      "610\n"
     ]
    }
   ],
   "source": [
    "# 动态规划解法 2 (用长度为3的数组，循环记录第i阶爬法数量)\n",
    "def dpSolution2(n):\n",
    "    dp = [0 for _ in range(3)]\n",
    "    dp[1] = 1\n",
    "    dp[2] = 2\n",
    "    for i in range(3, n+1):\n",
    "        dp[i%3] = dp[(i-1)%3] + dp[(i-2)%3]\n",
    "    return dp[n%3]\n",
    "\n",
    "print(dpSolution2(14))"
   ]
  },
  {
   "cell_type": "markdown",
   "metadata": {},
   "source": [
    "总结：\n",
    "- 确认$\\color{#EE7600}{原问题}$与$\\color{#EE7600}{子问题}$：原问题为求n阶台阶所有走法的数量，子问题是求1阶台阶、2阶台阶、...、n-1阶台阶的走法数量。\n",
    "- 确认状态：本题的动态规划$\\color{#EE7600}{状态单一}$，第i个状态即为i阶台阶的所有走法数量。\n",
    "- 确认$\\color{#EE7600}{边界}$状态的值：边界状态为1阶台阶与2阶台阶的走法，1阶台阶有一种走法，2阶台阶有2种走法，即dp[1]=1，dp[2]=2。\n",
    "- 确定$\\color{#EE7600}{状态转移方程}$：将求第i个状态的值转移为求第i-1个状态的值与第i-2个状态的值，动态规划转移方程，dp[i]=dp[i-1]+dp[i-2]；(i>=3)。"
   ]
  },
  {
   "cell_type": "code",
   "execution_count": null,
   "metadata": {},
   "outputs": [],
   "source": []
  }
 ],
 "metadata": {
  "kernelspec": {
   "display_name": "Python 3",
   "language": "python",
   "name": "python3"
  },
  "language_info": {
   "codemirror_mode": {
    "name": "ipython",
    "version": 3
   },
   "file_extension": ".py",
   "mimetype": "text/x-python",
   "name": "python",
   "nbconvert_exporter": "python",
   "pygments_lexer": "ipython3",
   "version": "3.6.5"
  }
 },
 "nbformat": 4,
 "nbformat_minor": 2
}
