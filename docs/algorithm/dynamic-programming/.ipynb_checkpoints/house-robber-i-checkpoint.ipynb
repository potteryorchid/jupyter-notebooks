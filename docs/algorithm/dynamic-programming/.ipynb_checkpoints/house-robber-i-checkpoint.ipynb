{
 "cells": [
  {
   "cell_type": "markdown",
   "metadata": {},
   "source": [
    "# 动态规划\n",
    "\n",
    "动态规划（dynamic programming）是$\\color{#EE7600}{运筹学}$的一个分支，是求解$\\color{#EE7600}{决策过程最优化}$的数学方法。它是20世纪50年代初美国数学家R.E.Bellman等人提出的$\\color{#EE7600}{最优化原理}$，它利用各阶段之间的关系，逐个求解，最终求得$\\color{#EE7600}{全局最优解}$。在设计动态规划算法时，需要确认原问题与子问题、动态规划状态、边界状态结值、状态转移方程等$\\color{#EE7600}{关键要素}$。"
   ]
  },
  {
   "cell_type": "markdown",
   "metadata": {},
   "source": [
    "### House Robber I（打家劫舍）"
   ]
  },
  {
   "cell_type": "markdown",
   "metadata": {},
   "source": [
    "在$\\color{#EE7600}{一条直线}$上，有n个房屋，每个房屋中有$\\color{#EE7600}{数量不等}$的财宝，有一个盗贼从房屋中盗取财宝，由于房屋中有$\\color{#EE7600}{报警器}$，如果同时从$\\color{#EE7600}{相邻的}$两个房屋中盗取财宝就会$\\color{#EE7600}{触发}$报警器。问在$\\color{#EE7600}{不触发报警器}$的前提下，$\\color{#EE7600}{最多}$可获取多少财宝？\n",
    "\n",
    "<img width=70% height=70% src=\"imgs/004.png\" alt=\"imgs/004.png\" title=\"图4\" />\n",
    "\n",
    "#### 思考\n",
    "1. n个房屋，每个房间都有$\\color{#EE7600}{盗取／不盗取}$两种可能，类似求子集（暴力搜索）的方法，在$\\color{#EE7600}{不触发警报}$的情况下，选择$\\color{#EE7600}{总和最大}$的子集，最多有$2^n$种可能，时间复杂度$O(2^n)$，是否有$\\color{#EE7600}{更好的}$方法？\n",
    "\n",
    "\n",
    "2. $\\color{#EE7600}{贪心算法}$是否可行？ 例如，在满足不触发警报的同时，每次选择$\\color{#EE7600}{财宝最多}$的房间。如，[5,2,6,3,1,7]，选择$\\color{#EE7600}{最大的}$ 7，6，5恰好是$\\color{#EE7600}{最佳答案}$。\n",
    "\n",
    "\n",
    "3. 若考虑$\\color{#EE7600}{动态规划}$(dp)方法，如何确认dp原问题与子问题、状态、边界状态、状态转移方程？\n",
    "\n",
    "####  分析\n",
    "由于$\\color{#EE7600}{同时}$从相邻的$\\color{#EE7600}{两个房屋}$中盗取财宝就会触发$\\color{#EE7600}{报警器}$，故：\n",
    "- a、若$\\color{#EE7600}{选择}$第i个房间盗取财宝，就一定$\\color{#EE7600}{不能选择}$第i-1个房间盗取财宝；\n",
    "- b、若$\\color{#EE7600}{不选择}$第i个房间盗取财宝，则相当于只考虑$\\color{#EE7600}{前i-1个房间}$盗取财宝。\n",
    "\n",
    "<img width=70% height=70% src=\"imgs/005.png\" alt=\"imgs/005.png\" title=\"图5\" />\n",
    "\n",
    "#### 算法思路\n",
    "1、确定原问题与子问题：\n",
    "\n",
    "$\\color{#EE7600}{原问题}$为求n个房间的最优解，$\\color{#EE7600}{子问题}$为求前1个房间、前2个房间、...、前n-1个房间的最优解。\n",
    "\n",
    "2、确定状态：\n",
    "\n",
    "第i个状态即为$\\color{#EE7600}{前i个房间}$能够获得的最大财宝（最优解）。\n",
    "\n",
    "3、确认边界状态的值：\n",
    "\n",
    "$\\color{#EE7600}{前1个}$房间的最优解，第1个房间的财宝；\n",
    "\n",
    "$\\color{#EE7600}{前2个}$房间的最优解，第1、2个房间中较大财宝的。\n",
    "\n",
    "4、确定状态转移方程：\n",
    "- a、$\\color{#EE7600}{选择}$第i个房间：第i个房间+前i-2个房间的最优解\n",
    "- b、$\\color{#EE7600}{不选择}$第i个房间：前i-1个房间的最优解\n",
    "\n",
    "动态规划转移方程：\n",
    "dp[i] = max(dp[i-1], dp[i-2]+nums[i]); (i>=3)\n",
    "\n",
    "<img width=40% height=40% src=\"imgs/006.png\" alt=\"imgs/006.png\" title=\"图6\" />"
   ]
  },
  {
   "cell_type": "code",
   "execution_count": 9,
   "metadata": {},
   "outputs": [
    {
     "name": "stdout",
     "output_type": "stream",
     "text": [
      "2\n",
      "3\n",
      "4\n",
      "5\n",
      "6\n",
      "7\n",
      "8\n",
      "9\n",
      "173\n"
     ]
    }
   ],
   "source": [
    "lis = [5,23,1,4,7,34,78,5,65,11]\n",
    "\n",
    "def dpSolution(nums):\n",
    "    length = len(nums)\n",
    "    \n",
    "    if length == 0:\n",
    "        return 0\n",
    "    elif length == 1:\n",
    "        return nums[0]\n",
    "    \n",
    "    dp = [0 for _ in range(length)]\n",
    "\n",
    "    dp[0] = nums[0]\n",
    "    dp[1] = max(nums[0], nums[1])\n",
    "    \n",
    "    for i in range(2, length):\n",
    "        dp[i] = max(dp[i-2] + nums[i], dp[i-1])\n",
    "    return dp[length-1]\n",
    "\n",
    "print(dpSolution(lis))"
   ]
  },
  {
   "cell_type": "code",
   "execution_count": null,
   "metadata": {},
   "outputs": [],
   "source": []
  }
 ],
 "metadata": {
  "kernelspec": {
   "display_name": "Python 3",
   "language": "python",
   "name": "python3"
  },
  "language_info": {
   "codemirror_mode": {
    "name": "ipython",
    "version": 3
   },
   "file_extension": ".py",
   "mimetype": "text/x-python",
   "name": "python",
   "nbconvert_exporter": "python",
   "pygments_lexer": "ipython3",
   "version": "3.6.5"
  }
 },
 "nbformat": 4,
 "nbformat_minor": 2
}
