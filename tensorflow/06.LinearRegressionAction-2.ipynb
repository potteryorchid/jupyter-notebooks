{
 "cells": [
  {
   "cell_type": "code",
   "execution_count": 1,
   "metadata": {},
   "outputs": [
    {
     "data": {
      "text/html": [
       "<div>\n",
       "<style scoped>\n",
       "    .dataframe tbody tr th:only-of-type {\n",
       "        vertical-align: middle;\n",
       "    }\n",
       "\n",
       "    .dataframe tbody tr th {\n",
       "        vertical-align: top;\n",
       "    }\n",
       "\n",
       "    .dataframe thead th {\n",
       "        text-align: right;\n",
       "    }\n",
       "</style>\n",
       "<table border=\"1\" class=\"dataframe\">\n",
       "  <thead>\n",
       "    <tr style=\"text-align: right;\">\n",
       "      <th></th>\n",
       "      <th>ones</th>\n",
       "      <th>square</th>\n",
       "      <th>bedrooms</th>\n",
       "      <th>price</th>\n",
       "    </tr>\n",
       "  </thead>\n",
       "  <tbody>\n",
       "    <tr>\n",
       "      <th>0</th>\n",
       "      <td>1.0</td>\n",
       "      <td>-0.664869</td>\n",
       "      <td>-0.411568</td>\n",
       "      <td>0.005698</td>\n",
       "    </tr>\n",
       "    <tr>\n",
       "      <th>1</th>\n",
       "      <td>1.0</td>\n",
       "      <td>1.818707</td>\n",
       "      <td>0.708041</td>\n",
       "      <td>0.649258</td>\n",
       "    </tr>\n",
       "    <tr>\n",
       "      <th>2</th>\n",
       "      <td>1.0</td>\n",
       "      <td>1.686088</td>\n",
       "      <td>-0.411568</td>\n",
       "      <td>0.595628</td>\n",
       "    </tr>\n",
       "    <tr>\n",
       "      <th>3</th>\n",
       "      <td>1.0</td>\n",
       "      <td>1.336459</td>\n",
       "      <td>1.827651</td>\n",
       "      <td>0.474961</td>\n",
       "    </tr>\n",
       "    <tr>\n",
       "      <th>4</th>\n",
       "      <td>1.0</td>\n",
       "      <td>-0.713093</td>\n",
       "      <td>1.827651</td>\n",
       "      <td>-0.250385</td>\n",
       "    </tr>\n",
       "  </tbody>\n",
       "</table>\n",
       "</div>"
      ],
      "text/plain": [
       "   ones    square  bedrooms     price\n",
       "0   1.0 -0.664869 -0.411568  0.005698\n",
       "1   1.0  1.818707  0.708041  0.649258\n",
       "2   1.0  1.686088 -0.411568  0.595628\n",
       "3   1.0  1.336459  1.827651  0.474961\n",
       "4   1.0 -0.713093  1.827651 -0.250385"
      ]
     },
     "execution_count": 1,
     "metadata": {},
     "output_type": "execute_result"
    }
   ],
   "source": [
    "import pandas as pd\n",
    "import numpy as np\n",
    "\n",
    "def normalize_feature(df):\n",
    "    return df.apply(lambda column: (column - column.mean()) / column.std())\n",
    "\n",
    "df = normalize_feature(pd.read_csv('datas/04/train_3d.csv', names = ['square', 'bedrooms', 'price']))\n",
    "\n",
    "ones = pd.DataFrame({'ones': np.ones(len(df))})\n",
    "df = pd.concat([ones,df], axis=1)\n",
    "\n",
    "df.head()"
   ]
  },
  {
   "cell_type": "markdown",
   "metadata": {},
   "source": [
    "### 数据处理：获取x和y"
   ]
  },
  {
   "cell_type": "code",
   "execution_count": 2,
   "metadata": {},
   "outputs": [
    {
     "name": "stdout",
     "output_type": "stream",
     "text": [
      "(10000, 3) <class 'numpy.ndarray'>\n",
      "(10000, 1) <class 'numpy.ndarray'>\n"
     ]
    }
   ],
   "source": [
    "X_data = np.array(df[df.columns[0:3]])\n",
    "y_data = np.array(df[df.columns[-1]]).reshape(len(df), 1)\n",
    "\n",
    "print(X_data.shape, type(X_data))\n",
    "print(y_data.shape, type(y_data))"
   ]
  },
  {
   "cell_type": "markdown",
   "metadata": {},
   "source": [
    "### 创建线性回归模型（数据流图）"
   ]
  },
  {
   "cell_type": "code",
   "execution_count": 3,
   "metadata": {},
   "outputs": [
    {
     "name": "stderr",
     "output_type": "stream",
     "text": [
      "/Users/po/Documents/repo/venv/py3/lib/python3.6/site-packages/tensorflow/python/framework/dtypes.py:523: FutureWarning: Passing (type, 1) or '1type' as a synonym of type is deprecated; in a future version of numpy, it will be understood as (type, (1,)) / '(1,)type'.\n",
      "  _np_qint8 = np.dtype([(\"qint8\", np.int8, 1)])\n",
      "/Users/po/Documents/repo/venv/py3/lib/python3.6/site-packages/tensorflow/python/framework/dtypes.py:524: FutureWarning: Passing (type, 1) or '1type' as a synonym of type is deprecated; in a future version of numpy, it will be understood as (type, (1,)) / '(1,)type'.\n",
      "  _np_quint8 = np.dtype([(\"quint8\", np.uint8, 1)])\n",
      "/Users/po/Documents/repo/venv/py3/lib/python3.6/site-packages/tensorflow/python/framework/dtypes.py:525: FutureWarning: Passing (type, 1) or '1type' as a synonym of type is deprecated; in a future version of numpy, it will be understood as (type, (1,)) / '(1,)type'.\n",
      "  _np_qint16 = np.dtype([(\"qint16\", np.int16, 1)])\n",
      "/Users/po/Documents/repo/venv/py3/lib/python3.6/site-packages/tensorflow/python/framework/dtypes.py:526: FutureWarning: Passing (type, 1) or '1type' as a synonym of type is deprecated; in a future version of numpy, it will be understood as (type, (1,)) / '(1,)type'.\n",
      "  _np_quint16 = np.dtype([(\"quint16\", np.uint16, 1)])\n",
      "/Users/po/Documents/repo/venv/py3/lib/python3.6/site-packages/tensorflow/python/framework/dtypes.py:527: FutureWarning: Passing (type, 1) or '1type' as a synonym of type is deprecated; in a future version of numpy, it will be understood as (type, (1,)) / '(1,)type'.\n",
      "  _np_qint32 = np.dtype([(\"qint32\", np.int32, 1)])\n",
      "/Users/po/Documents/repo/venv/py3/lib/python3.6/site-packages/tensorflow/python/framework/dtypes.py:532: FutureWarning: Passing (type, 1) or '1type' as a synonym of type is deprecated; in a future version of numpy, it will be understood as (type, (1,)) / '(1,)type'.\n",
      "  np_resource = np.dtype([(\"resource\", np.ubyte, 1)])\n"
     ]
    }
   ],
   "source": [
    "import tensorflow as tf\n",
    "\n",
    "alpha = 0.01 # 学习率\n",
    "epoch = 400 # 训练全量数据集的轮数\n",
    "\n",
    "# 输入 X，形状[10000,3]\n",
    "X = tf.placeholder(tf.float32, X_data.shape)\n",
    "# 输入 y，形状[10000,1]\n",
    "y = tf.placeholder(tf.float32, y_data.shape)\n",
    "\n",
    "# weight [3, 1]\n",
    "W = tf.get_variable('weights',(X_data.shape[1], 1), initializer=tf.constant_initializer())\n",
    "\n",
    "# 假设函数 h(x) = w_0 * x_0 + w_1 * x_1 + w_2 * x_2, 其中x_0恒为1\n",
    "# 推理值 y_pred [1000,1]\n",
    "y_pred = tf.matmul(X, W)\n",
    "\n",
    "# 损失函数采用最小二乘法，y_pred - y 是形如[1000,1]的向量\n",
    "# tf.matmul(a, b, transpose_a=True) 表示：矩阵a的转置乘矩阵b，即 [1,1000] x [1000,1]\n",
    "# 损失函数操作 loss\n",
    "loss_op = 1 / (2 * len(X_data)) * tf.matmul((y_pred - y), (y_pred - y), transpose_a=True)\n",
    "\n",
    "# 随机梯度下降优化器 opt\n",
    "opt = tf.train.GradientDescentOptimizer(learning_rate=alpha)\n",
    "\n",
    "# 单步训练操作 train_op\n",
    "train_op = opt.minimize(loss_op)"
   ]
  },
  {
   "cell_type": "markdown",
   "metadata": {},
   "source": [
    "### 创建会话（运行环境）"
   ]
  },
  {
   "cell_type": "code",
   "execution_count": 4,
   "metadata": {},
   "outputs": [
    {
     "name": "stdout",
     "output_type": "stream",
     "text": [
      "Epoch_10 \t Loss=0.4596 \t Model: y = 0.05679x1 + 0.02882x2 + 2.765e-10\n",
      "Epoch_20 \t Loss=0.4291 \t Model: y = 0.1069x1 + 0.0524x2 + 3.658e-10\n",
      "Epoch_30 \t Loss=0.4059 \t Model: y = 0.1513x1 + 0.07152x2 + 3.859e-10\n",
      "Epoch_40 \t Loss=0.3881 \t Model: y = 0.1906x1 + 0.08687x2 + 3.606e-10\n",
      "Epoch_50 \t Loss=0.3746 \t Model: y = 0.2255x1 + 0.09902x2 + 1.516e-10\n",
      "Epoch_60 \t Loss=0.3641 \t Model: y = 0.2566x1 + 0.1085x2 + -4.278e-11\n",
      "Epoch_70 \t Loss=0.3559 \t Model: y = 0.2843x1 + 0.1157x2 + -2.494e-10\n",
      "Epoch_80 \t Loss=0.3495 \t Model: y = 0.309x1 + 0.1209x2 + -3.376e-10\n",
      "Epoch_90 \t Loss=0.3445 \t Model: y = 0.3312x1 + 0.1246x2 + -3.82e-10\n",
      "Epoch_100 \t Loss=0.3405 \t Model: y = 0.3511x1 + 0.1269x2 + -5.777e-10\n",
      "Epoch_110 \t Loss=0.3373 \t Model: y = 0.3691x1 + 0.1282x2 + -7.139e-10\n",
      "Epoch_120 \t Loss=0.3347 \t Model: y = 0.3853x1 + 0.1285x2 + -9.823e-10\n",
      "Epoch_130 \t Loss=0.3325 \t Model: y = 0.3999x1 + 0.1281x2 + -1.124e-09\n",
      "Epoch_140 \t Loss=0.3308 \t Model: y = 0.4132x1 + 0.127x2 + -1.142e-09\n",
      "Epoch_150 \t Loss=0.3293 \t Model: y = 0.4252x1 + 0.1255x2 + -1.165e-09\n",
      "Epoch_160 \t Loss=0.328 \t Model: y = 0.4362x1 + 0.1236x2 + -1.301e-09\n",
      "Epoch_170 \t Loss=0.327 \t Model: y = 0.4462x1 + 0.1214x2 + -1.217e-09\n",
      "Epoch_180 \t Loss=0.3261 \t Model: y = 0.4554x1 + 0.1189x2 + -1.107e-09\n",
      "Epoch_190 \t Loss=0.3253 \t Model: y = 0.4638x1 + 0.1163x2 + -1.225e-09\n",
      "Epoch_200 \t Loss=0.3246 \t Model: y = 0.4716x1 + 0.1135x2 + -1.31e-09\n",
      "Epoch_210 \t Loss=0.3241 \t Model: y = 0.4787x1 + 0.1107x2 + -1.399e-09\n",
      "Epoch_220 \t Loss=0.3235 \t Model: y = 0.4853x1 + 0.1078x2 + -1.626e-09\n",
      "Epoch_230 \t Loss=0.3231 \t Model: y = 0.4914x1 + 0.1049x2 + -1.76e-09\n",
      "Epoch_240 \t Loss=0.3227 \t Model: y = 0.497x1 + 0.102x2 + -1.714e-09\n",
      "Epoch_250 \t Loss=0.3223 \t Model: y = 0.5023x1 + 0.09915x2 + -1.797e-09\n",
      "Epoch_260 \t Loss=0.322 \t Model: y = 0.5071x1 + 0.09631x2 + -1.798e-09\n",
      "Epoch_270 \t Loss=0.3217 \t Model: y = 0.5117x1 + 0.09353x2 + -1.819e-09\n",
      "Epoch_280 \t Loss=0.3215 \t Model: y = 0.5159x1 + 0.09081x2 + -1.876e-09\n",
      "Epoch_290 \t Loss=0.3213 \t Model: y = 0.5198x1 + 0.08816x2 + -1.843e-09\n",
      "Epoch_300 \t Loss=0.3211 \t Model: y = 0.5235x1 + 0.08558x2 + -1.959e-09\n",
      "Epoch_310 \t Loss=0.3209 \t Model: y = 0.527x1 + 0.08309x2 + -2.067e-09\n",
      "Epoch_320 \t Loss=0.3207 \t Model: y = 0.5302x1 + 0.08068x2 + -2.327e-09\n",
      "Epoch_330 \t Loss=0.3206 \t Model: y = 0.5333x1 + 0.07835x2 + -2.461e-09\n",
      "Epoch_340 \t Loss=0.3204 \t Model: y = 0.5361x1 + 0.07611x2 + -2.508e-09\n",
      "Epoch_350 \t Loss=0.3203 \t Model: y = 0.5388x1 + 0.07395x2 + -2.531e-09\n",
      "Epoch_360 \t Loss=0.3202 \t Model: y = 0.5413x1 + 0.07188x2 + -2.51e-09\n",
      "Epoch_370 \t Loss=0.3201 \t Model: y = 0.5437x1 + 0.06989x2 + -2.537e-09\n",
      "Epoch_380 \t Loss=0.32 \t Model: y = 0.5459x1 + 0.06799x2 + -2.769e-09\n",
      "Epoch_390 \t Loss=0.3199 \t Model: y = 0.5481x1 + 0.06616x2 + -2.893e-09\n",
      "Epoch_400 \t Loss=0.3199 \t Model: y = 0.5501x1 + 0.06442x2 + -2.96e-09\n"
     ]
    }
   ],
   "source": [
    "with tf.Session() as sess:\n",
    "    sess.run(tf.global_variables_initializer())\n",
    "    \n",
    "    writer = tf.summary.FileWriter('./summary/linear-regression-6-1', sess.graph)\n",
    "    \n",
    "    for e in range(1, epoch + 1):\n",
    "        sess.run(train_op, feed_dict={X: X_data, y: y_data})\n",
    "        if e % 10 == 0:\n",
    "            loss, w = sess.run([loss_op, W], feed_dict={X: X_data, y: y_data})\n",
    "            log_str = \"Epoch_%d \\t Loss=%.4g \\t Model: y = %.4gx1 + %.4gx2 + %.4g\"\n",
    "            print(log_str % (e, loss, w[1], w[2], w[0]))\n",
    "            \n",
    "writer.close()"
   ]
  },
  {
   "cell_type": "code",
   "execution_count": null,
   "metadata": {},
   "outputs": [],
   "source": []
  }
 ],
 "metadata": {
  "kernelspec": {
   "display_name": "Python 3",
   "language": "python",
   "name": "python3"
  },
  "language_info": {
   "codemirror_mode": {
    "name": "ipython",
    "version": 3
   },
   "file_extension": ".py",
   "mimetype": "text/x-python",
   "name": "python",
   "nbconvert_exporter": "python",
   "pygments_lexer": "ipython3",
   "version": "3.6.5"
  }
 },
 "nbformat": 4,
 "nbformat_minor": 2
}
