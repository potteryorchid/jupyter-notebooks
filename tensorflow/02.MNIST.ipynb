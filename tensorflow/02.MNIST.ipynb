{
 "cells": [
  {
   "cell_type": "markdown",
   "metadata": {},
   "source": [
    "# MNIST Dataset Overview\n",
    "\n",
    "[1]:http://yann.lecun.com/exdb/mnist/\n",
    "\n",
    "MNIST图像数据集使用形如$[28, 28]$的二阶数组来表示每张图像，数组中的每个元素对应一个像素点，该数据集中的图像都是256阶灰度图，像素值0表示白色（背景），256表示黑色（前景）。由于每张图像的尺寸都是28×28像素，为了方便连续存储，我们可以将形如$[28, 28]$的二阶数组“摊平”成形如$[784]$的一阶数组。数组中的784个元素共同组成了一个784维的向量。\n",
    "\n",
    "<img width=80% height=80% src=\"imgs/02/01.jpeg\" alt=\"imgs/02/01.jpeg\" title=\"图1\" />\n",
    "\n",
    "More info: [http://yann.lecun.com/exdb/mnist/][1]"
   ]
  },
  {
   "cell_type": "code",
   "execution_count": 2,
   "metadata": {},
   "outputs": [
    {
     "name": "stdout",
     "output_type": "stream",
     "text": [
      "WARNING:tensorflow:From <ipython-input-2-eea27d05d46c>:5: read_data_sets (from tensorflow.contrib.learn.python.learn.datasets.mnist) is deprecated and will be removed in a future version.\n",
      "Instructions for updating:\n",
      "Please use alternatives such as official/mnist/dataset.py from tensorflow/models.\n",
      "WARNING:tensorflow:From /Users/po/Documents/repo/venv/py2/lib/python2.7/site-packages/tensorflow/contrib/learn/python/learn/datasets/mnist.py:260: maybe_download (from tensorflow.contrib.learn.python.learn.datasets.base) is deprecated and will be removed in a future version.\n",
      "Instructions for updating:\n",
      "Please write your own downloading logic.\n",
      "WARNING:tensorflow:From /Users/po/Documents/repo/venv/py2/lib/python2.7/site-packages/tensorflow/contrib/learn/python/learn/datasets/mnist.py:262: extract_images (from tensorflow.contrib.learn.python.learn.datasets.mnist) is deprecated and will be removed in a future version.\n",
      "Instructions for updating:\n",
      "Please use tf.data to implement this functionality.\n",
      "Extracting /Users/po/Documents/repo/tmp/datas/train-images-idx3-ubyte.gz\n",
      "WARNING:tensorflow:From /Users/po/Documents/repo/venv/py2/lib/python2.7/site-packages/tensorflow/contrib/learn/python/learn/datasets/mnist.py:267: extract_labels (from tensorflow.contrib.learn.python.learn.datasets.mnist) is deprecated and will be removed in a future version.\n",
      "Instructions for updating:\n",
      "Please use tf.data to implement this functionality.\n",
      "Extracting /Users/po/Documents/repo/tmp/datas/train-labels-idx1-ubyte.gz\n",
      "WARNING:tensorflow:From /Users/po/Documents/repo/venv/py2/lib/python2.7/site-packages/tensorflow/contrib/learn/python/learn/datasets/mnist.py:110: dense_to_one_hot (from tensorflow.contrib.learn.python.learn.datasets.mnist) is deprecated and will be removed in a future version.\n",
      "Instructions for updating:\n",
      "Please use tf.one_hot on tensors.\n",
      "Extracting /Users/po/Documents/repo/tmp/datas/t10k-images-idx3-ubyte.gz\n",
      "Extracting /Users/po/Documents/repo/tmp/datas/t10k-labels-idx1-ubyte.gz\n",
      "WARNING:tensorflow:From /Users/po/Documents/repo/venv/py2/lib/python2.7/site-packages/tensorflow/contrib/learn/python/learn/datasets/mnist.py:290: __init__ (from tensorflow.contrib.learn.python.learn.datasets.mnist) is deprecated and will be removed in a future version.\n",
      "Instructions for updating:\n",
      "Please use alternatives such as official/mnist/dataset.py from tensorflow/models.\n"
     ]
    }
   ],
   "source": [
    "from __future__ import print_function\n",
    "\n",
    "# import dataset\n",
    "from tensorflow.examples.tutorials.mnist import input_data\n",
    "mnist = input_data.read_data_sets(\"/Users/po/Documents/repo/tmp/datas\", one_hot=True)\n",
    "\n",
    "import tensorflow as tf"
   ]
  },
  {
   "cell_type": "code",
   "execution_count": 3,
   "metadata": {},
   "outputs": [],
   "source": [
    "# super parms\n",
    "learning_rate = 0.1\n",
    "num_steps = 500\n",
    "batch_size = 128\n",
    "display_step = 100\n",
    "\n",
    "# neural network\n",
    "n_hidden_1 = 256 # first level nodes nums\n",
    "n_hidden_2 = 256 # sencond level nodes nums\n",
    "num_input = 784 # mnist datasize (28*28)\n",
    "num_classes = 10 # mnist classify nums (0-9)\n",
    "\n",
    "# input train datas\n",
    "X = tf.placeholder(\"float\", [None, num_input])\n",
    "Y = tf.placeholder(\"float\", [None, num_classes])"
   ]
  },
  {
   "cell_type": "code",
   "execution_count": null,
   "metadata": {},
   "outputs": [],
   "source": [
    "# weights & biases\n",
    "weights = {\n",
    "    'h1': tf.Variable(tf.random_normal([num_input, n_hidden_1])),\n",
    "    'h2': tf.Variable(tf.random_normal([n_hidden_1, n_hidden_2])),\n",
    "    'out': tf.Variable(tf.random_normal([n_hidden_2, num_classes]))\n",
    "}\n",
    "\n",
    "biases = {\n",
    "    \n",
    "}"
   ]
  }
 ],
 "metadata": {
  "kernelspec": {
   "display_name": "py2",
   "language": "python",
   "name": "py2"
  },
  "language_info": {
   "codemirror_mode": {
    "name": "ipython",
    "version": 2
   },
   "file_extension": ".py",
   "mimetype": "text/x-python",
   "name": "python",
   "nbconvert_exporter": "python",
   "pygments_lexer": "ipython2",
   "version": "2.7.17"
  }
 },
 "nbformat": 4,
 "nbformat_minor": 2
}
