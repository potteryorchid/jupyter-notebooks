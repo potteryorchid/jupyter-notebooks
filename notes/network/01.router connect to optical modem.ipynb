{
 "cells": [
  {
   "cell_type": "markdown",
   "metadata": {},
   "source": [
    "## how to connect the router to the optical modem"
   ]
  },
  {
   "cell_type": "markdown",
   "metadata": {},
   "source": [
    "- 电脑连接路由器，路由器与光猫连接断开，重置路由器。\n",
    "- WAN口（上网设置）配置为\"自动获取IP地址\"。\n",
    "- LAN口设置为\"手动\"方式，若光猫有内置路由功能，LAN口IP地址改为与光猫路由不同网段的IP地址，子网掩码-255.255.255.0。例如：光猫IP-192.168.0.1，LAN口IP改为192.168.x.1(x为0之外的合法数字)。\n",
    "- DHCP服务开关打开，地址网段ip改为与上面LAN口ip相同的网段。网关与DNS服务ip都改为0.0.0.0。"
   ]
  },
  {
   "cell_type": "code",
   "execution_count": null,
   "metadata": {},
   "outputs": [],
   "source": []
  }
 ],
 "metadata": {
  "kernelspec": {
   "display_name": "Python 2",
   "language": "python",
   "name": "python2"
  },
  "language_info": {
   "codemirror_mode": {
    "name": "ipython",
    "version": 2
   },
   "file_extension": ".py",
   "mimetype": "text/x-python",
   "name": "python",
   "nbconvert_exporter": "python",
   "pygments_lexer": "ipython2",
   "version": "2.7.15"
  }
 },
 "nbformat": 4,
 "nbformat_minor": 2
}
