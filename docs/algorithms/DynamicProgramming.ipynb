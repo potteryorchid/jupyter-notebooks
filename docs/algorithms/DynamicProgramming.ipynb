{
 "cells": [
  {
   "cell_type": "markdown",
   "metadata": {},
   "source": [
    "# 动态规划\n",
    "\n",
    "动态规划（dynamic programming）是$\\color{#EE7600}{运筹学}$的一个分支，是求解$\\color{#EE7600}{决策过程最优化}$的数学方法。它是20世纪50年代初美国数学家R.E.Bellman等人提出的$\\color{#EE7600}{最优化原理}$，它利用各阶段之间的关系，逐个求解，最终求得$\\color{#EE7600}{全局最优解}$。在设计动态规划算法时，需要确认原问题与子问题、动态规划状态、边界状态结值、状态转移方程等$\\color{#EE7600}{关键要素}$。"
   ]
  },
  {
   "cell_type": "markdown",
   "metadata": {},
   "source": [
    "### 爬楼梯问题"
   ]
  },
  {
   "attachments": {},
   "cell_type": "markdown",
   "metadata": {},
   "source": [
    "爬楼梯时，每次可向上走1阶台阶 或 2阶台阶，问共n阶楼梯有多少种上楼的方式？\n",
    "\n",
    "#### 回溯解法\n",
    "\n",
    "问题分析：\n",
    "\n",
    "<img width=70% height=70% src=\"imgs/001.png\" alt=\"imgs/001.png\" title=\"图1\" />\n",
    "\n",
    "- 问题分为：第一次走1个台阶 和 第一次走2个台阶\n",
    "- 总的方式 = 走1阶台阶后的总上楼方式 + 走2台阶后的总上楼方式\n",
    "- 按上面思路递归求解"
   ]
  },
  {
   "cell_type": "code",
   "execution_count": 6,
   "metadata": {},
   "outputs": [
    {
     "name": "stdout",
     "output_type": "stream",
     "text": [
      "8\n"
     ]
    }
   ],
   "source": [
    "# 回溯解法\n",
    "def solution(n):\n",
    "    if(n == 1 or n ==2):\n",
    "        return n\n",
    "    return solution(n-1) + solution(n-2)\n",
    "\n",
    "print(solution(5))"
   ]
  },
  {
   "cell_type": "markdown",
   "metadata": {},
   "source": [
    "缺陷：每次回溯步骤都乘以 $2$，总代价趋近 $2^n$。"
   ]
  },
  {
   "cell_type": "markdown",
   "metadata": {},
   "source": [
    "#### 动态规划解法"
   ]
  },
  {
   "cell_type": "code",
   "execution_count": null,
   "metadata": {},
   "outputs": [],
   "source": []
  }
 ],
 "metadata": {
  "kernelspec": {
   "display_name": "Python 3",
   "language": "python",
   "name": "python3"
  },
  "language_info": {
   "codemirror_mode": {
    "name": "ipython",
    "version": 3
   },
   "file_extension": ".py",
   "mimetype": "text/x-python",
   "name": "python",
   "nbconvert_exporter": "python",
   "pygments_lexer": "ipython3",
   "version": "3.6.8"
  }
 },
 "nbformat": 4,
 "nbformat_minor": 2
}
