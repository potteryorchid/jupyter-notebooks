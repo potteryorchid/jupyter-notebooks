{
 "cells": [
  {
   "cell_type": "markdown",
   "metadata": {},
   "source": [
    "# Tensor"
   ]
  },
  {
   "cell_type": "code",
   "execution_count": 1,
   "metadata": {},
   "outputs": [],
   "source": [
    "import tensorflow as tf"
   ]
  },
  {
   "cell_type": "code",
   "execution_count": 2,
   "metadata": {},
   "outputs": [
    {
     "data": {
      "text/plain": [
       "[<tf.Variable 'Variable:0' shape=() dtype=string_ref>,\n",
       " <tf.Variable 'Variable_1:0' shape=() dtype=int32_ref>,\n",
       " <tf.Variable 'Variable_2:0' shape=() dtype=float32_ref>,\n",
       " <tf.Variable 'Variable_3:0' shape=() dtype=complex128_ref>]"
      ]
     },
     "execution_count": 2,
     "metadata": {},
     "output_type": "execute_result"
    }
   ],
   "source": [
    "# zero rank tensor\n",
    "cat = tf.Variable(\"Jerry\", tf.string)\n",
    "age = tf.Variable(9, tf.int8)\n",
    "pai = tf.Variable(3.14159265359, tf.float64)\n",
    "complicated = tf.Variable(12.3 - 4.85j, tf.complex64)\n",
    "\n",
    "[cat, age, pai, complicated]"
   ]
  },
  {
   "cell_type": "code",
   "execution_count": 3,
   "metadata": {},
   "outputs": [
    {
     "data": {
      "text/plain": [
       "[<tf.Variable 'Variable_4:0' shape=(1,) dtype=string_ref>,\n",
       " <tf.Variable 'Variable_5:0' shape=(2,) dtype=float32_ref>,\n",
       " <tf.Variable 'Variable_6:0' shape=(4,) dtype=int32_ref>,\n",
       " <tf.Variable 'Variable_7:0' shape=(2,) dtype=complex128_ref>]"
      ]
     },
     "execution_count": 3,
     "metadata": {},
     "output_type": "execute_result"
    }
   ],
   "source": [
    "# one rank tensor\n",
    "one_str = tf.Variable([\"hello\"], tf.string)\n",
    "one_float = tf.Variable([3.1224, 2.445], tf.float16)\n",
    "one_int = tf.Variable([2, 4, 6, 7], tf.int16)\n",
    "one_complicated = tf.Variable([13.2 - 4.23j, 34.1 - 86.4j], tf.complex64)\n",
    "\n",
    "[one_str, one_float, one_int, one_complicated]"
   ]
  },
  {
   "cell_type": "code",
   "execution_count": 4,
   "metadata": {},
   "outputs": [
    {
     "data": {
      "text/plain": [
       "[<tf.Variable 'Variable_8:0' shape=(2, 1) dtype=int32_ref>,\n",
       " <tf.Variable 'Variable_9:0' shape=(2, 2) dtype=bool_ref>,\n",
       " <tf.Variable 'Variable_10:0' shape=(3, 2) dtype=int32_ref>,\n",
       " <tf.Tensor 'Rank:0' shape=() dtype=int32>]"
      ]
     },
     "execution_count": 4,
     "metadata": {},
     "output_type": "execute_result"
    }
   ],
   "source": [
    "# two rank tensor\n",
    "two_int = tf.Variable([[7], [12]], tf.int16)\n",
    "two_bool = tf.Variable([[False, True], [True, False]], tf.bool)\n",
    "two_int32 = tf.Variable([[3, 2], [5, 7], [73, 2]], tf.int32)\n",
    "rank32 = tf.rank(two_int32)\n",
    "\n",
    "[two_int, two_bool, two_int32, rank32]"
   ]
  },
  {
   "cell_type": "code",
   "execution_count": 6,
   "metadata": {},
   "outputs": [
    {
     "data": {
      "text/plain": [
       "<tf.Tensor 'zeros_1:0' shape=(10, 28, 273, 34) dtype=float32>"
      ]
     },
     "execution_count": 6,
     "metadata": {},
     "output_type": "execute_result"
    }
   ],
   "source": [
    "# four rank tensor, defined a tensor with zeros method.\n",
    "f = tf.zeros([10, 28, 273, 34])\n",
    "\n",
    "# tensor will be recycled automatic, variable is not.\n",
    "f"
   ]
  },
  {
   "cell_type": "markdown",
   "metadata": {},
   "source": [
    "# Variable\n",
    "\n",
    "variable is a special tensor\n",
    "\n",
    "- 张量的生命周期通常随依赖的计算完成而结束，内存也随即释放。\n",
    "- 变量则常驻内存，在每一步训练时不断更新值，以实现模型参数的更新。\n",
    "\n",
    "## Create variables\n",
    "\n",
    "```\n",
    "# create var\n",
    "w = tf.Variable(<initial-value>, name=<optional-name>)\n",
    "\n",
    "# put vars as input\n",
    "y = tf.matmul(w, ...another variable or tensor...)\n",
    "z = tf.sigmoid(w + y)\n",
    "\n",
    "# set value for vars with assign or assign_xxx methods\n",
    "w.assign(w + 1.0)\n",
    "w.assign_add(1.0)\n",
    "```"
   ]
  },
  {
   "cell_type": "code",
   "execution_count": 2,
   "metadata": {},
   "outputs": [],
   "source": [
    "# tf.random_normal 方法返回形状为（1，4）的张量。它的4个元素符合均值为100，标准差为0.35的正态分布。\n",
    "w = tf.Variable(initial_value=tf.random_normal(shape=(1, 4), mean=100, stddev=0.35), name=\"w\")\n",
    "b = tf.Variable(tf.zeros([4]), name=\"b\")"
   ]
  },
  {
   "cell_type": "code",
   "execution_count": 5,
   "metadata": {},
   "outputs": [
    {
     "data": {
      "text/plain": [
       "[<tf.Variable 'w:0' shape=(1, 4) dtype=float32_ref>,\n",
       " <tf.Variable 'b:0' shape=(4,) dtype=float32_ref>]"
      ]
     },
     "execution_count": 5,
     "metadata": {},
     "output_type": "execute_result"
    }
   ],
   "source": [
    "[w, b]"
   ]
  },
  {
   "cell_type": "code",
   "execution_count": 4,
   "metadata": {},
   "outputs": [
    {
     "data": {
      "text/plain": [
       "[array([[100.04436 , 100.053345, 100.131775, 100.08898 ]], dtype=float32),\n",
       " array([0., 0., 0., 0.], dtype=float32)]"
      ]
     },
     "execution_count": 4,
     "metadata": {},
     "output_type": "execute_result"
    }
   ],
   "source": [
    "# initialize variables\n",
    "sess = tf.Session()\n",
    "sess.run(tf.global_variables_initializer())\n",
    "sess.run([w, b])"
   ]
  },
  {
   "cell_type": "code",
   "execution_count": 6,
   "metadata": {},
   "outputs": [
    {
     "data": {
      "text/plain": [
       "array([1., 1., 1., 1.], dtype=float32)"
      ]
     },
     "execution_count": 6,
     "metadata": {},
     "output_type": "execute_result"
    }
   ],
   "source": [
    "# update variable b and show update operator status. operator success is not equals b is updated successful.\n",
    "sess.run(tf.assign_add(b, [1, 1, 1, 1]))"
   ]
  },
  {
   "cell_type": "code",
   "execution_count": 7,
   "metadata": {},
   "outputs": [
    {
     "data": {
      "text/plain": [
       "array([1., 1., 1., 1.], dtype=float32)"
      ]
     },
     "execution_count": 7,
     "metadata": {},
     "output_type": "execute_result"
    }
   ],
   "source": [
    "# check b is updated success.\n",
    "sess.run(b)"
   ]
  },
  {
   "cell_type": "markdown",
   "metadata": {},
   "source": [
    "## Saver demo\n",
    "\n",
    "```\n",
    "v1 = tf.Variable(..., name='v1')\n",
    "v2 = tf.Variable(..., name='v2')\n",
    "\n",
    "# save variables\n",
    "saver = tf.train.Saver({'v1':v1, 'v2':v2})\n",
    "saver = tf.train.Saver([v1, v2])\n",
    "saver = tf.train.Saver({v.op.name: v for v in [v1, v2]})\n",
    "\n",
    "# call saver method\n",
    "tf.train.saver.save(sess, 'file-name', global_step=0)\n",
    "```"
   ]
  },
  {
   "cell_type": "code",
   "execution_count": 9,
   "metadata": {},
   "outputs": [
    {
     "data": {
      "text/plain": [
       "'./saver/test-ckpt-0'"
      ]
     },
     "execution_count": 9,
     "metadata": {},
     "output_type": "execute_result"
    }
   ],
   "source": [
    "# create saver\n",
    "saver = tf.train.Saver({'w': w, 'b': b})\n",
    "# save\n",
    "saver.save(sess, './saver/test-ckpt', global_step=0)"
   ]
  },
  {
   "cell_type": "code",
   "execution_count": 10,
   "metadata": {},
   "outputs": [
    {
     "data": {
      "text/plain": [
       "array([2., 2., 2., 2.], dtype=float32)"
      ]
     },
     "execution_count": 10,
     "metadata": {},
     "output_type": "execute_result"
    }
   ],
   "source": [
    "# updated b\n",
    "sess.run(tf.assign_add(b, [1, 1, 1, 1]))\n",
    "sess.run(b)"
   ]
  },
  {
   "cell_type": "code",
   "execution_count": 11,
   "metadata": {},
   "outputs": [
    {
     "name": "stdout",
     "output_type": "stream",
     "text": [
      "INFO:tensorflow:Restoring parameters from ./saver/test-ckpt-0\n"
     ]
    },
    {
     "data": {
      "text/plain": [
       "array([1., 1., 1., 1.], dtype=float32)"
      ]
     },
     "execution_count": 11,
     "metadata": {},
     "output_type": "execute_result"
    }
   ],
   "source": [
    "# reload b from checkpoint files\n",
    "saver.restore(sess, './saver/test-ckpt-0')\n",
    "sess.run(b)"
   ]
  },
  {
   "cell_type": "markdown",
   "metadata": {},
   "source": [
    "**从 checkpoint 文件中恢复数据流图结构**\n",
    "```\n",
    "tf.train.import_meta_graph\n",
    "```"
   ]
  },
  {
   "cell_type": "markdown",
   "metadata": {},
   "source": [
    "# Operator\n",
    "\n",
    "TensorFlow 用数据流图表示算法模型。数据流图由节点和有向边组成，每个节点均对应一个具体的操作。因此，操作是模型功能的$\\color{#ea4339}{实际}\\color{#ea4339}{载体}$。\n",
    "\n",
    "数据流图中的节点按照功能不同可以分为3种：\n",
    "\n",
    "- 存储节点：有状态的变量操作，通常用来存储模型参数；\n",
    "- 计算节点：无状态的计算或控制操作，主要负责算法逻辑表达或流程控制；\n",
    "- 数据节点：数据的占位符操作，用于描述图外输入数据的属性；\n",
    "\n",
    "$\\color{#ea4339}{操作的输入和输出是张量或操作（函数式编程）}$\n",
    "\n",
    "<img width=80% height=80% src=\"imgs/03/01.jpeg\" alt=\"imgs/03/01.jpeg\" title=\"图1\" />\n",
    "\n",
    "TensorFlow使用占位符操作表示图外输入的数据，如训练和测试数据。\n",
    "\n",
    "TensorFlow数据流图描述流算法模型的计算拓扑，其中的各个操作（节点）都是抽象的函数映射或数学表达式。\n",
    "\n",
    "换句话说，数据流图本身是一个具有计算拓扑和内部结构的“壳”。\n",
    "\n",
    "用户向数据流图填充数据前，图中并没有真正执行任何计算。\n",
    "\n",
    "<img width=80% height=80% src=\"imgs/03/02.jpeg\" alt=\"imgs/03/02.jpeg\" title=\"图2\" />"
   ]
  },
  {
   "cell_type": "code",
   "execution_count": 12,
   "metadata": {},
   "outputs": [],
   "source": [
    "import tensorflow as tf"
   ]
  },
  {
   "cell_type": "code",
   "execution_count": 13,
   "metadata": {},
   "outputs": [],
   "source": [
    "# constant operator\n",
    "a = tf.constant(2)\n",
    "b = tf.constant(3)"
   ]
  },
  {
   "cell_type": "code",
   "execution_count": 14,
   "metadata": {},
   "outputs": [
    {
     "name": "stdout",
     "output_type": "stream",
     "text": [
      "a: 2\n",
      "b: 3\n",
      "Addition with constants: 5\n",
      "Multiplication with constants: 6\n"
     ]
    }
   ],
   "source": [
    "with tf.Session() as sess:\n",
    "    print(\"a: %i\" % sess.run(a))\n",
    "    print(\"b: %i\" % sess.run(b))\n",
    "    print(\"Addition with constants: %i\" % sess.run(a + b))\n",
    "    print(\"Multiplication with constants: %i\" % sess.run(a * b))"
   ]
  },
  {
   "cell_type": "code",
   "execution_count": 15,
   "metadata": {},
   "outputs": [],
   "source": [
    "# placeholder operator\n",
    "x = tf.placeholder(tf.int16, shape=(), name=\"x\")\n",
    "y = tf.placeholder(tf.int16, shape=(), name=\"y\")"
   ]
  },
  {
   "cell_type": "code",
   "execution_count": 17,
   "metadata": {},
   "outputs": [],
   "source": [
    "add = tf.add(x, y)\n",
    "mul = tf.multiply(x, y)"
   ]
  },
  {
   "cell_type": "code",
   "execution_count": 18,
   "metadata": {},
   "outputs": [
    {
     "ename": "InvalidArgumentError",
     "evalue": "You must feed a value for placeholder tensor 'y' with dtype int16\n\t [[node y (defined at <ipython-input-15-4eb7d8b6e8dd>:3)  = Placeholder[dtype=DT_INT16, shape=[], _device=\"/job:localhost/replica:0/task:0/device:CPU:0\"]()]]\n\nCaused by op u'y', defined at:\n  File \"/usr/local/Cellar/python@2/2.7.17/Frameworks/Python.framework/Versions/2.7/lib/python2.7/runpy.py\", line 174, in _run_module_as_main\n    \"__main__\", fname, loader, pkg_name)\n  File \"/usr/local/Cellar/python@2/2.7.17/Frameworks/Python.framework/Versions/2.7/lib/python2.7/runpy.py\", line 72, in _run_code\n    exec code in run_globals\n  File \"/Users/po/Documents/repo/venv/py2/lib/python2.7/site-packages/ipykernel_launcher.py\", line 16, in <module>\n    app.launch_new_instance()\n  File \"/Users/po/Documents/repo/venv/py2/lib/python2.7/site-packages/traitlets/config/application.py\", line 664, in launch_instance\n    app.start()\n  File \"/Users/po/Documents/repo/venv/py2/lib/python2.7/site-packages/ipykernel/kernelapp.py\", line 499, in start\n    self.io_loop.start()\n  File \"/Users/po/Documents/repo/venv/py2/lib/python2.7/site-packages/tornado/ioloop.py\", line 1073, in start\n    handler_func(fd_obj, events)\n  File \"/Users/po/Documents/repo/venv/py2/lib/python2.7/site-packages/tornado/stack_context.py\", line 300, in null_wrapper\n    return fn(*args, **kwargs)\n  File \"/Users/po/Documents/repo/venv/py2/lib/python2.7/site-packages/zmq/eventloop/zmqstream.py\", line 456, in _handle_events\n    self._handle_recv()\n  File \"/Users/po/Documents/repo/venv/py2/lib/python2.7/site-packages/zmq/eventloop/zmqstream.py\", line 486, in _handle_recv\n    self._run_callback(callback, msg)\n  File \"/Users/po/Documents/repo/venv/py2/lib/python2.7/site-packages/zmq/eventloop/zmqstream.py\", line 438, in _run_callback\n    callback(*args, **kwargs)\n  File \"/Users/po/Documents/repo/venv/py2/lib/python2.7/site-packages/tornado/stack_context.py\", line 300, in null_wrapper\n    return fn(*args, **kwargs)\n  File \"/Users/po/Documents/repo/venv/py2/lib/python2.7/site-packages/ipykernel/kernelbase.py\", line 283, in dispatcher\n    return self.dispatch_shell(stream, msg)\n  File \"/Users/po/Documents/repo/venv/py2/lib/python2.7/site-packages/ipykernel/kernelbase.py\", line 233, in dispatch_shell\n    handler(stream, idents, msg)\n  File \"/Users/po/Documents/repo/venv/py2/lib/python2.7/site-packages/ipykernel/kernelbase.py\", line 399, in execute_request\n    user_expressions, allow_stdin)\n  File \"/Users/po/Documents/repo/venv/py2/lib/python2.7/site-packages/ipykernel/ipkernel.py\", line 208, in do_execute\n    res = shell.run_cell(code, store_history=store_history, silent=silent)\n  File \"/Users/po/Documents/repo/venv/py2/lib/python2.7/site-packages/ipykernel/zmqshell.py\", line 537, in run_cell\n    return super(ZMQInteractiveShell, self).run_cell(*args, **kwargs)\n  File \"/Users/po/Documents/repo/venv/py2/lib/python2.7/site-packages/IPython/core/interactiveshell.py\", line 2714, in run_cell\n    interactivity=interactivity, compiler=compiler, result=result)\n  File \"/Users/po/Documents/repo/venv/py2/lib/python2.7/site-packages/IPython/core/interactiveshell.py\", line 2818, in run_ast_nodes\n    if self.run_code(code, result):\n  File \"/Users/po/Documents/repo/venv/py2/lib/python2.7/site-packages/IPython/core/interactiveshell.py\", line 2878, in run_code\n    exec(code_obj, self.user_global_ns, self.user_ns)\n  File \"<ipython-input-15-4eb7d8b6e8dd>\", line 3, in <module>\n    y = tf.placeholder(tf.int16, shape=(), name=\"y\")\n  File \"/Users/po/Documents/repo/venv/py2/lib/python2.7/site-packages/tensorflow/python/ops/array_ops.py\", line 1747, in placeholder\n    return gen_array_ops.placeholder(dtype=dtype, shape=shape, name=name)\n  File \"/Users/po/Documents/repo/venv/py2/lib/python2.7/site-packages/tensorflow/python/ops/gen_array_ops.py\", line 5206, in placeholder\n    \"Placeholder\", dtype=dtype, shape=shape, name=name)\n  File \"/Users/po/Documents/repo/venv/py2/lib/python2.7/site-packages/tensorflow/python/framework/op_def_library.py\", line 787, in _apply_op_helper\n    op_def=op_def)\n  File \"/Users/po/Documents/repo/venv/py2/lib/python2.7/site-packages/tensorflow/python/util/deprecation.py\", line 488, in new_func\n    return func(*args, **kwargs)\n  File \"/Users/po/Documents/repo/venv/py2/lib/python2.7/site-packages/tensorflow/python/framework/ops.py\", line 3274, in create_op\n    op_def=op_def)\n  File \"/Users/po/Documents/repo/venv/py2/lib/python2.7/site-packages/tensorflow/python/framework/ops.py\", line 1770, in __init__\n    self._traceback = tf_stack.extract_stack()\n\nInvalidArgumentError (see above for traceback): You must feed a value for placeholder tensor 'y' with dtype int16\n\t [[node y (defined at <ipython-input-15-4eb7d8b6e8dd>:3)  = Placeholder[dtype=DT_INT16, shape=[], _device=\"/job:localhost/replica:0/task:0/device:CPU:0\"]()]]\n",
     "output_type": "error",
     "traceback": [
      "\u001b[0;31m---------------------------------------------------------------------------\u001b[0m",
      "\u001b[0;31mInvalidArgumentError\u001b[0m                      Traceback (most recent call last)",
      "\u001b[0;32m<ipython-input-18-0ba0e84bcb5b>\u001b[0m in \u001b[0;36m<module>\u001b[0;34m()\u001b[0m\n\u001b[1;32m      1\u001b[0m \u001b[0;32mwith\u001b[0m \u001b[0mtf\u001b[0m\u001b[0;34m.\u001b[0m\u001b[0mSession\u001b[0m\u001b[0;34m(\u001b[0m\u001b[0;34m)\u001b[0m \u001b[0;32mas\u001b[0m \u001b[0msess\u001b[0m\u001b[0;34m:\u001b[0m\u001b[0;34m\u001b[0m\u001b[0m\n\u001b[0;32m----> 2\u001b[0;31m     \u001b[0;32mprint\u001b[0m\u001b[0;34m(\u001b[0m\u001b[0;34m\"Addition with variables: %i\"\u001b[0m \u001b[0;34m%\u001b[0m \u001b[0msess\u001b[0m\u001b[0;34m.\u001b[0m\u001b[0mrun\u001b[0m\u001b[0;34m(\u001b[0m\u001b[0madd\u001b[0m\u001b[0;34m)\u001b[0m\u001b[0;34m)\u001b[0m\u001b[0;34m\u001b[0m\u001b[0m\n\u001b[0m\u001b[1;32m      3\u001b[0m     \u001b[0;32mprint\u001b[0m\u001b[0;34m(\u001b[0m\u001b[0;34m\"Multiplication with variables: %i\"\u001b[0m \u001b[0;34m%\u001b[0m \u001b[0msess\u001b[0m\u001b[0;34m.\u001b[0m\u001b[0mrun\u001b[0m\u001b[0;34m(\u001b[0m\u001b[0mmul\u001b[0m\u001b[0;34m)\u001b[0m\u001b[0;34m)\u001b[0m\u001b[0;34m\u001b[0m\u001b[0m\n",
      "\u001b[0;32m/Users/po/Documents/repo/venv/py2/lib/python2.7/site-packages/tensorflow/python/client/session.pyc\u001b[0m in \u001b[0;36mrun\u001b[0;34m(self, fetches, feed_dict, options, run_metadata)\u001b[0m\n\u001b[1;32m    927\u001b[0m     \u001b[0;32mtry\u001b[0m\u001b[0;34m:\u001b[0m\u001b[0;34m\u001b[0m\u001b[0m\n\u001b[1;32m    928\u001b[0m       result = self._run(None, fetches, feed_dict, options_ptr,\n\u001b[0;32m--> 929\u001b[0;31m                          run_metadata_ptr)\n\u001b[0m\u001b[1;32m    930\u001b[0m       \u001b[0;32mif\u001b[0m \u001b[0mrun_metadata\u001b[0m\u001b[0;34m:\u001b[0m\u001b[0;34m\u001b[0m\u001b[0m\n\u001b[1;32m    931\u001b[0m         \u001b[0mproto_data\u001b[0m \u001b[0;34m=\u001b[0m \u001b[0mtf_session\u001b[0m\u001b[0;34m.\u001b[0m\u001b[0mTF_GetBuffer\u001b[0m\u001b[0;34m(\u001b[0m\u001b[0mrun_metadata_ptr\u001b[0m\u001b[0;34m)\u001b[0m\u001b[0;34m\u001b[0m\u001b[0m\n",
      "\u001b[0;32m/Users/po/Documents/repo/venv/py2/lib/python2.7/site-packages/tensorflow/python/client/session.pyc\u001b[0m in \u001b[0;36m_run\u001b[0;34m(self, handle, fetches, feed_dict, options, run_metadata)\u001b[0m\n\u001b[1;32m   1150\u001b[0m     \u001b[0;32mif\u001b[0m \u001b[0mfinal_fetches\u001b[0m \u001b[0;32mor\u001b[0m \u001b[0mfinal_targets\u001b[0m \u001b[0;32mor\u001b[0m \u001b[0;34m(\u001b[0m\u001b[0mhandle\u001b[0m \u001b[0;32mand\u001b[0m \u001b[0mfeed_dict_tensor\u001b[0m\u001b[0;34m)\u001b[0m\u001b[0;34m:\u001b[0m\u001b[0;34m\u001b[0m\u001b[0m\n\u001b[1;32m   1151\u001b[0m       results = self._do_run(handle, final_targets, final_fetches,\n\u001b[0;32m-> 1152\u001b[0;31m                              feed_dict_tensor, options, run_metadata)\n\u001b[0m\u001b[1;32m   1153\u001b[0m     \u001b[0;32melse\u001b[0m\u001b[0;34m:\u001b[0m\u001b[0;34m\u001b[0m\u001b[0m\n\u001b[1;32m   1154\u001b[0m       \u001b[0mresults\u001b[0m \u001b[0;34m=\u001b[0m \u001b[0;34m[\u001b[0m\u001b[0;34m]\u001b[0m\u001b[0;34m\u001b[0m\u001b[0m\n",
      "\u001b[0;32m/Users/po/Documents/repo/venv/py2/lib/python2.7/site-packages/tensorflow/python/client/session.pyc\u001b[0m in \u001b[0;36m_do_run\u001b[0;34m(self, handle, target_list, fetch_list, feed_dict, options, run_metadata)\u001b[0m\n\u001b[1;32m   1326\u001b[0m     \u001b[0;32mif\u001b[0m \u001b[0mhandle\u001b[0m \u001b[0;32mis\u001b[0m \u001b[0mNone\u001b[0m\u001b[0;34m:\u001b[0m\u001b[0;34m\u001b[0m\u001b[0m\n\u001b[1;32m   1327\u001b[0m       return self._do_call(_run_fn, feeds, fetches, targets, options,\n\u001b[0;32m-> 1328\u001b[0;31m                            run_metadata)\n\u001b[0m\u001b[1;32m   1329\u001b[0m     \u001b[0;32melse\u001b[0m\u001b[0;34m:\u001b[0m\u001b[0;34m\u001b[0m\u001b[0m\n\u001b[1;32m   1330\u001b[0m       \u001b[0;32mreturn\u001b[0m \u001b[0mself\u001b[0m\u001b[0;34m.\u001b[0m\u001b[0m_do_call\u001b[0m\u001b[0;34m(\u001b[0m\u001b[0m_prun_fn\u001b[0m\u001b[0;34m,\u001b[0m \u001b[0mhandle\u001b[0m\u001b[0;34m,\u001b[0m \u001b[0mfeeds\u001b[0m\u001b[0;34m,\u001b[0m \u001b[0mfetches\u001b[0m\u001b[0;34m)\u001b[0m\u001b[0;34m\u001b[0m\u001b[0m\n",
      "\u001b[0;32m/Users/po/Documents/repo/venv/py2/lib/python2.7/site-packages/tensorflow/python/client/session.pyc\u001b[0m in \u001b[0;36m_do_call\u001b[0;34m(self, fn, *args)\u001b[0m\n\u001b[1;32m   1346\u001b[0m           \u001b[0;32mpass\u001b[0m\u001b[0;34m\u001b[0m\u001b[0m\n\u001b[1;32m   1347\u001b[0m       \u001b[0mmessage\u001b[0m \u001b[0;34m=\u001b[0m \u001b[0merror_interpolation\u001b[0m\u001b[0;34m.\u001b[0m\u001b[0minterpolate\u001b[0m\u001b[0;34m(\u001b[0m\u001b[0mmessage\u001b[0m\u001b[0;34m,\u001b[0m \u001b[0mself\u001b[0m\u001b[0;34m.\u001b[0m\u001b[0m_graph\u001b[0m\u001b[0;34m)\u001b[0m\u001b[0;34m\u001b[0m\u001b[0m\n\u001b[0;32m-> 1348\u001b[0;31m       \u001b[0;32mraise\u001b[0m \u001b[0mtype\u001b[0m\u001b[0;34m(\u001b[0m\u001b[0me\u001b[0m\u001b[0;34m)\u001b[0m\u001b[0;34m(\u001b[0m\u001b[0mnode_def\u001b[0m\u001b[0;34m,\u001b[0m \u001b[0mop\u001b[0m\u001b[0;34m,\u001b[0m \u001b[0mmessage\u001b[0m\u001b[0;34m)\u001b[0m\u001b[0;34m\u001b[0m\u001b[0m\n\u001b[0m\u001b[1;32m   1349\u001b[0m \u001b[0;34m\u001b[0m\u001b[0m\n\u001b[1;32m   1350\u001b[0m   \u001b[0;32mdef\u001b[0m \u001b[0m_extend_graph\u001b[0m\u001b[0;34m(\u001b[0m\u001b[0mself\u001b[0m\u001b[0;34m)\u001b[0m\u001b[0;34m:\u001b[0m\u001b[0;34m\u001b[0m\u001b[0m\n",
      "\u001b[0;31mInvalidArgumentError\u001b[0m: You must feed a value for placeholder tensor 'y' with dtype int16\n\t [[node y (defined at <ipython-input-15-4eb7d8b6e8dd>:3)  = Placeholder[dtype=DT_INT16, shape=[], _device=\"/job:localhost/replica:0/task:0/device:CPU:0\"]()]]\n\nCaused by op u'y', defined at:\n  File \"/usr/local/Cellar/python@2/2.7.17/Frameworks/Python.framework/Versions/2.7/lib/python2.7/runpy.py\", line 174, in _run_module_as_main\n    \"__main__\", fname, loader, pkg_name)\n  File \"/usr/local/Cellar/python@2/2.7.17/Frameworks/Python.framework/Versions/2.7/lib/python2.7/runpy.py\", line 72, in _run_code\n    exec code in run_globals\n  File \"/Users/po/Documents/repo/venv/py2/lib/python2.7/site-packages/ipykernel_launcher.py\", line 16, in <module>\n    app.launch_new_instance()\n  File \"/Users/po/Documents/repo/venv/py2/lib/python2.7/site-packages/traitlets/config/application.py\", line 664, in launch_instance\n    app.start()\n  File \"/Users/po/Documents/repo/venv/py2/lib/python2.7/site-packages/ipykernel/kernelapp.py\", line 499, in start\n    self.io_loop.start()\n  File \"/Users/po/Documents/repo/venv/py2/lib/python2.7/site-packages/tornado/ioloop.py\", line 1073, in start\n    handler_func(fd_obj, events)\n  File \"/Users/po/Documents/repo/venv/py2/lib/python2.7/site-packages/tornado/stack_context.py\", line 300, in null_wrapper\n    return fn(*args, **kwargs)\n  File \"/Users/po/Documents/repo/venv/py2/lib/python2.7/site-packages/zmq/eventloop/zmqstream.py\", line 456, in _handle_events\n    self._handle_recv()\n  File \"/Users/po/Documents/repo/venv/py2/lib/python2.7/site-packages/zmq/eventloop/zmqstream.py\", line 486, in _handle_recv\n    self._run_callback(callback, msg)\n  File \"/Users/po/Documents/repo/venv/py2/lib/python2.7/site-packages/zmq/eventloop/zmqstream.py\", line 438, in _run_callback\n    callback(*args, **kwargs)\n  File \"/Users/po/Documents/repo/venv/py2/lib/python2.7/site-packages/tornado/stack_context.py\", line 300, in null_wrapper\n    return fn(*args, **kwargs)\n  File \"/Users/po/Documents/repo/venv/py2/lib/python2.7/site-packages/ipykernel/kernelbase.py\", line 283, in dispatcher\n    return self.dispatch_shell(stream, msg)\n  File \"/Users/po/Documents/repo/venv/py2/lib/python2.7/site-packages/ipykernel/kernelbase.py\", line 233, in dispatch_shell\n    handler(stream, idents, msg)\n  File \"/Users/po/Documents/repo/venv/py2/lib/python2.7/site-packages/ipykernel/kernelbase.py\", line 399, in execute_request\n    user_expressions, allow_stdin)\n  File \"/Users/po/Documents/repo/venv/py2/lib/python2.7/site-packages/ipykernel/ipkernel.py\", line 208, in do_execute\n    res = shell.run_cell(code, store_history=store_history, silent=silent)\n  File \"/Users/po/Documents/repo/venv/py2/lib/python2.7/site-packages/ipykernel/zmqshell.py\", line 537, in run_cell\n    return super(ZMQInteractiveShell, self).run_cell(*args, **kwargs)\n  File \"/Users/po/Documents/repo/venv/py2/lib/python2.7/site-packages/IPython/core/interactiveshell.py\", line 2714, in run_cell\n    interactivity=interactivity, compiler=compiler, result=result)\n  File \"/Users/po/Documents/repo/venv/py2/lib/python2.7/site-packages/IPython/core/interactiveshell.py\", line 2818, in run_ast_nodes\n    if self.run_code(code, result):\n  File \"/Users/po/Documents/repo/venv/py2/lib/python2.7/site-packages/IPython/core/interactiveshell.py\", line 2878, in run_code\n    exec(code_obj, self.user_global_ns, self.user_ns)\n  File \"<ipython-input-15-4eb7d8b6e8dd>\", line 3, in <module>\n    y = tf.placeholder(tf.int16, shape=(), name=\"y\")\n  File \"/Users/po/Documents/repo/venv/py2/lib/python2.7/site-packages/tensorflow/python/ops/array_ops.py\", line 1747, in placeholder\n    return gen_array_ops.placeholder(dtype=dtype, shape=shape, name=name)\n  File \"/Users/po/Documents/repo/venv/py2/lib/python2.7/site-packages/tensorflow/python/ops/gen_array_ops.py\", line 5206, in placeholder\n    \"Placeholder\", dtype=dtype, shape=shape, name=name)\n  File \"/Users/po/Documents/repo/venv/py2/lib/python2.7/site-packages/tensorflow/python/framework/op_def_library.py\", line 787, in _apply_op_helper\n    op_def=op_def)\n  File \"/Users/po/Documents/repo/venv/py2/lib/python2.7/site-packages/tensorflow/python/util/deprecation.py\", line 488, in new_func\n    return func(*args, **kwargs)\n  File \"/Users/po/Documents/repo/venv/py2/lib/python2.7/site-packages/tensorflow/python/framework/ops.py\", line 3274, in create_op\n    op_def=op_def)\n  File \"/Users/po/Documents/repo/venv/py2/lib/python2.7/site-packages/tensorflow/python/framework/ops.py\", line 1770, in __init__\n    self._traceback = tf_stack.extract_stack()\n\nInvalidArgumentError (see above for traceback): You must feed a value for placeholder tensor 'y' with dtype int16\n\t [[node y (defined at <ipython-input-15-4eb7d8b6e8dd>:3)  = Placeholder[dtype=DT_INT16, shape=[], _device=\"/job:localhost/replica:0/task:0/device:CPU:0\"]()]]\n"
     ]
    }
   ],
   "source": [
    "# errors for not feed a value for placeholder tensor\n",
    "with tf.Session() as sess:\n",
    "    print(\"Addition with variables: %i\" % sess.run(add))\n",
    "    print(\"Multiplication with variables: %i\" % sess.run(mul))"
   ]
  },
  {
   "cell_type": "code",
   "execution_count": null,
   "metadata": {},
   "outputs": [],
   "source": [
    "# feed a value and running success\n",
    "with tf.Session() as sess:\n",
    "    print(\"Addition with variables: %i\" % sess.run(add, feed_dict={x: 10, y: 7}))\n",
    "    print(\"Multiplication with variables: %i\" % sess.run(mul, feed_dict={x: 3, y: 9}))"
   ]
  },
  {
   "cell_type": "markdown",
   "metadata": {},
   "source": [
    "# Session\n",
    "\n",
    "会话提供了估算张量和执行操作的运行环境，它是发放计算任务的客户端，所有计算任务都有它连接的执行引擎完成。一个会话的典型使用流程分为以下3步：\n",
    "\n",
    "```\n",
    "# create session\n",
    "sess = tf.Session(target=..., graph=..., config=...)\n",
    "# run operation\n",
    "sess.run(...)\n",
    "# close session\n",
    "sess.close()\n",
    "```\n",
    "\n",
    "| 参数名称 | 功能说明 |\n",
    "| :------: | :------: |\n",
    "| target | 会话连接的执行引擎 |\n",
    "| graph | 会话加载的数据流图 |\n",
    "| config | 会话启动时的配置项 |\n",
    "\n",
    "<img width=80% height=80% src=\"imgs/03/03.jpeg\" alt=\"imgs/03/03.jpeg\" title=\"图3\" />"
   ]
  },
  {
   "cell_type": "code",
   "execution_count": 23,
   "metadata": {},
   "outputs": [
    {
     "name": "stdout",
     "output_type": "stream",
     "text": [
      ">>> 4.0\n"
     ]
    }
   ],
   "source": [
    "import tensorflow as tf\n",
    "\n",
    "x = tf.placeholder(tf.float32)\n",
    "W = tf.Variable(1.0)\n",
    "b = tf.Variable(1.0)\n",
    "y = W * x + b\n",
    "\n",
    "with tf.Session() as sess:\n",
    "    tf.global_variables_initializer().run()\n",
    "    fetch = y.eval(feed_dict={x: 3.0})\n",
    "    print(\">>> \" + str(fetch))"
   ]
  },
  {
   "cell_type": "markdown",
   "metadata": {},
   "source": [
    "## TensorFlow会话执行原理\n",
    "\n",
    "当我们调用sess.run(train_op)语句执行训练操作时：\n",
    "\n",
    "- 首先，程序内部提取操作依赖的所有前置操作。这些操作的节点共同组成一副子图。\n",
    "- 然后，程序会将子图中的计算节点、存储节点和数据节点按照各自的执行设备分类，相同设备上的节点组成了一副局部图。\n",
    "- 最后，每个设备上的局部图在实际执行时，根据节点间的依赖关系将各个节点有序地加载到设备上执行。\n",
    "\n",
    "对于单机程序来说，相同机器上不同编号的CPU或GPU就是不同的设备，我们可以在创建节点时指定执行该节点的设备。\n",
    "\n",
    "```\n",
    "# run on cpu:0 device\n",
    "with tf.device(\"/cpu:0\"):\n",
    "    v = tf.Variable(...)\n",
    "    \n",
    "# run on gpu:0 device\n",
    "with tf.device(\"/gpu:0\"):\n",
    "    z = tf.matmul(x, y)\n",
    "```\n",
    "\n",
    "TensorFlow本地计算的简单示例，如下图：\n",
    "\n",
    "Client是pythonAPI写好的数据流图，但数据流图并不是在python的解释器里执行的，需要连接远程的一个执行引擎，也就是说session连接是Server对应的底层C++层的核心引擎。\n",
    "\n",
    "<img width=80% height=80% src=\"imgs/03/04.jpeg\" alt=\"imgs/03/04.jpeg\" title=\"图4\" />\n",
    "\n",
    "当执行sess.run()时，数据流图的各个部分子图中的节点根据根据绑定的设备关系被划分到不同的设备中进行计算，然后根据拓扑图执行入度为0的节点。\n",
    "\n",
    "<img width=80% height=80% src=\"imgs/03/05.jpeg\" alt=\"imgs/03/05.jpeg\" title=\"图5\" />"
   ]
  },
  {
   "attachments": {},
   "cell_type": "markdown",
   "metadata": {},
   "source": [
    "# Optimizer\n",
    "\n",
    "## 前置知识：损失函数\n",
    "\n",
    "损失函数是评估特定模型参数和特定输入时，表达模型输出的推理值与真实值之间不一致程度的函数。损失函数L的形势化定义如下：\n",
    "\n",
    "$loss = L(f(x_i; \\theta), y_{i})$\n",
    "\n",
    "常见的损失函数有平方损失函数、交叉熵损失函数和指数损失函数：\n",
    "\n",
    "$loss = (y_i-f(x_i;\\theta))^2$\n",
    "\n",
    "$loss = y_i*log(f(x_i;\\theta))$\n",
    "\n",
    "$loss = exp(-y_i*f(x_i;\\theta))$\n",
    "\n",
    "使用损失函数对所有训练样本求损失值，再累加求平均可得到模型的经验风险。换句话说，$f(x)$关于训练集的平均损失就是经验风险，其形式化定义如下：\n",
    "\n",
    "$R_{emp}(f) = \\frac{1}{N} \\sum_{i=1}^{N} L(f(x_i;\\theta),y_i)$\n",
    "\n",
    "然而，如果过度的追求训练数据上的低损失值，就会遇到过拟合问题。训练集通常并不能完全代表真实场景的数据分布。当两者的分布不一致时，如果过分依赖训练集上的数据，面对新数据时就会无所适从，这时模型的$\\color{#ea4339}{泛化能力就会变差}$。\n",
    "\n",
    "模型训练的目标是不断最小化经验风险。随着训练步数的增加，经验风险将逐渐降低，模型复杂度也将逐渐上升。为了降低过度训练可能造成的过度拟合风险，可以引入专门用来度量模型复杂度的正则化项（regularizer）或惩罚项（penalty term）-J(f)。常用的正则化项有L0、L1和L2范数。因此，我们将模型最优化的目标替换为$\\color{#ea4339}{鲁棒性更好}$的结构风险最小化（structural risk minimization, SRM）。如下所示，它由经验风险项和正则项两部分构成：\n",
    "\n",
    "$R_{srm}(f) = min\\frac{1}{N}\\sum_{i=1}^{N}L(f(x_i;\\theta),y_i)+\\lambda J(\\theta)$\n",
    "\n",
    "在模型训练过程中，结构风险不断的降低。当小于我们设置的损失值阈值时，则认为此时的模型已经满足需求。因此，模型训练的本质就是在最小化结构风险的同时取得最优的模型参数。\n",
    "\n",
    "最优模型参数的形式化定义如下：\n",
    "\n",
    "$\\theta^* = arg \\min \\limits_{\\theta} R_{srm}(f) = arg \\min \\limits_{\\theta} \\frac{1}{N} \\sum_{i=1}^{N} L(f(x_i;\\theta),y_i) + \\lambda J(\\theta)$\n",
    "\n",
    "## 前置知识：优化算法\n",
    "\n",
    "典型的机器学习和深度学习问题通常都需要转换为$\\color{#ea4339}{最优化问题}$进行求解。\n",
    "\n",
    "求解最优化问题的算法称为$\\color{#ea4339}{优化算法}$，他们通常采用$\\color{#ea4339}{迭代方式}$实现：首先设定一个初始的可行解，然后基于特定的函数反复重新计算可行解，直到找到一个最优解或达到预设的收敛条件。不同的优化算法采用的迭代策略各有不同：\n",
    "\n",
    "- 有的使用目标函数的一阶导数，如梯度下降法；\n",
    "\n",
    "- 有的使用目标函数的二阶导数，如牛顿法；\n",
    "\n",
    "- 有的使用前几轮迭代的信息，如Adam。\n",
    "\n",
    "基于梯度下降法的迭代策略最简单，它直接沿着梯度负方向，即$\\color{#ea4339}{目标函数减小最快}$的方向进行直线搜索。其计算表达式如下：\n",
    "\n",
    "$x_{k+1} = x_k - a*grad(x_k)$\n",
    "\n",
    "## TensorFlow训练机制\n",
    "\n",
    "典型的机器学习和深度学习问题，包含以下3个部分：\n",
    "\n",
    "- 1.$\\color{#ea4339}{模型}$：$y=f(x)=wx+b$，其中$x$是输入数据，$y$是模型输出的推理值，$w$和$b$是模型参数，即用户的训练对象。\n",
    "\n",
    "- 2.$\\color{#ea4339}{损失函数}$：$loss=L(y,y_i)$,其中$y_i$是$x$对应的真实值（标签），$loss$为损失函数输出的损失值。\n",
    "\n",
    "- 3.$\\color{#ea4339}{优化算法}$：$w\\leftarrow w+a*grad(w)$，$b\\leftarrow b+a*grad(b)$，其中$grad(w)$和$grad(b)$分别表示当损失值为$loss$时，模型参数$w$和$b$各自的梯度值，$a$为学习率。\n",
    "\n",
    "## TensorFlow优化器\n",
    "\n",
    "$\\color{#ea4339}{优化器}$是实现优化算法的载体。一次典型的迭代优化应该分为以下3个步骤：\n",
    "\n",
    "- 1.$\\color{#ea4339}{计算梯度}$：调用compute_gradients方法；\n",
    "\n",
    "- 2.$\\color{#ea4339}{处理梯度}$：用户按照自己需求处理梯度值，如梯度裁剪和梯度加权等；\n",
    "\n",
    "- 3.$\\color{#ea4339}{应用梯度}$：调用apply_gradients方法，将处理后的梯度值应用到模型参数。\n",
    "\n",
    "<img width=80% height=80% src=\"imgs/03/06.jpeg\" alt=\"imgs/03/06.jpeg\" title=\"图6\" />\n",
    "\n",
    "TensorFlow优化器训练过程：\n",
    "\n",
    "<img width=80% height=80% src=\"imgs/03/07.jpeg\" alt=\"imgs/03/07.jpeg\" title=\"图7\" />\n",
    "\n",
    "<img width=80% height=80% src=\"imgs/03/08.jpeg\" alt=\"imgs/03/08.jpeg\" title=\"图8\" />\n",
    "\n",
    "TensorFlow内置优化器：\n",
    "\n",
    "<img width=80% height=80% src=\"imgs/03/09.jpeg\" alt=\"imgs/03/09.jpeg\" title=\"图9\" />"
   ]
  },
  {
   "cell_type": "code",
   "execution_count": null,
   "metadata": {},
   "outputs": [],
   "source": []
  }
 ],
 "metadata": {
  "kernelspec": {
   "display_name": "py2",
   "language": "python",
   "name": "py2"
  },
  "language_info": {
   "codemirror_mode": {
    "name": "ipython",
    "version": 2
   },
   "file_extension": ".py",
   "mimetype": "text/x-python",
   "name": "python",
   "nbconvert_exporter": "python",
   "pygments_lexer": "ipython2",
   "version": "2.7.17"
  }
 },
 "nbformat": 4,
 "nbformat_minor": 2
}
